{
 "cells": [
  {
   "cell_type": "code",
   "execution_count": 1,
   "id": "ee9a5756",
   "metadata": {},
   "outputs": [],
   "source": [
    "# Create counterfactual data set"
   ]
  },
  {
   "cell_type": "code",
   "execution_count": 3,
   "id": "3f9b571a",
   "metadata": {},
   "outputs": [],
   "source": [
    "import pandas as pd\n",
    "\n",
    "# Load the original CSV file\n",
    "df = pd.read_csv('DiscoveryData_Sample.csv')\n",
    "\n",
    "# Reverse the order of 'Powderkg' values\n",
    "powder_values = [360, 370, 380, 390, 400, 410, 420, 430, 440, 450]\n",
    "reversed_powder_values = list(reversed(powder_values))\n",
    "\n",
    "# Replace 'Powderkg' in the dataframe\n",
    "replacement_map = dict(zip(powder_values, reversed_powder_values))\n",
    "df['Powderkg'] = df['Powderkg'].map(replacement_map)\n",
    "\n",
    "# Save the modified data to a new CSV file\n",
    "df.to_csv('counterfactual_DiscoveryData_Sample.csv', index=False)\n"
   ]
  }
 ],
 "metadata": {
  "kernelspec": {
   "display_name": "Python 3",
   "language": "python",
   "name": "python3"
  },
  "language_info": {
   "codemirror_mode": {
    "name": "ipython",
    "version": 3
   },
   "file_extension": ".py",
   "mimetype": "text/x-python",
   "name": "python",
   "nbconvert_exporter": "python",
   "pygments_lexer": "ipython3",
   "version": "3.9.12"
  }
 },
 "nbformat": 4,
 "nbformat_minor": 5
}
