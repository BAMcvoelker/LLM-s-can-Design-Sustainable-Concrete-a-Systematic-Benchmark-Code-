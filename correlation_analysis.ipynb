{
 "cells": [
  {
   "cell_type": "code",
   "execution_count": null,
   "metadata": {
    "pycharm": {
     "name": "#%%\n"
    }
   },
   "outputs": [],
   "source": [
    "%matplotlib inline\n",
    "\n",
    "import re\n",
    "import os\n",
    "import warnings\n",
    "import matplotlib.pyplot as plt\n",
    "import numpy as np\n",
    "import pandas as pd\n",
    "import seaborn as sns\n",
    "from pandas.errors import SettingWithCopyWarning\n",
    "from sklearn.decomposition import PCA\n",
    "from sklearn.preprocessing import MinMaxScaler\n"
   ]
  },
  {
   "cell_type": "markdown",
   "source": [
    "### Correlation Analysis:"
   ],
   "metadata": {
    "collapsed": false,
    "pycharm": {
     "name": "#%% md\n"
    }
   }
  },
  {
   "cell_type": "code",
   "execution_count": null,
   "metadata": {
    "pycharm": {
     "name": "#%%\n"
    }
   },
   "outputs": [],
   "source": [
    "from sklearn.manifold import TSNE\n",
    "\n",
    "strategies = ['None', 'Specific', 'Generic']\n",
    "temperatures = ['0.0', '0.7']\n",
    "variations = ['0', '1', '2']\n",
    "recursions = ['0', '1']\n",
    "\n",
    "regex_patterns = {\n",
    "    'Powderkg': r'Powderkg = (\\d+)',\n",
    "    'wc': r'wc = ([\\d.]+)',\n",
    "    'materials': r'materials = ([\\d./]+)',\n",
    "    'curing': r'curing = (.+?)(?:\\n|$)'\n",
    "}\n",
    "\n",
    "\n",
    "def find_explained_variance_using_pca(correlation_matrix, feature, strategy, temperature):\n",
    "    pca = PCA(n_components=1)\n",
    "    data = pd.DataFrame(correlation_matrix)\n",
    "    pca.fit(data)\n",
    "    first_principal_component = pca.components_[0]\n",
    "\n",
    "    explained_variance_ratio = pca.explained_variance_ratio_\n",
    "    print(f\"Explained Variance Ratio for {feature}, {strategy} and {temperature}:\", explained_variance_ratio)\n",
    "    print(f\"First Principal Component (Overall Relationship) for {feature}, {strategy} and {temperature}:\",\n",
    "          first_principal_component)\n",
    "\n",
    "\n",
    "def perform_correlation_analysis(feature, strategy, temperature, recursion):\n",
    "    correlation_matrix = df.corr()\n",
    "    correlation_matrix = correlation_matrix.apply(lambda x: round(x, 2))\n",
    "    average_cc_per_run = correlation_matrix.mean()\n",
    "    correlation_matrix['Average Correlation'] = average_cc_per_run\n",
    "    print('AVERAGE CORRELATION COEFFICIENT PER RUN')\n",
    "    print(average_cc_per_run)\n",
    "    overall_average_cc = correlation_matrix.stack().mean()\n",
    "    print('OVERALL CORRELATION COEFFICIENT')\n",
    "    print(overall_average_cc)\n",
    "    # NaNs occur when the std is 0, i.e. we have constant functions. We handle this cas by replacing NaN with 1\n",
    "    correlation_matrix.fillna(1, inplace=True)\n",
    "    correlation_matrix.to_csv(\n",
    "        f'Results/Correlation_Analysis/correlation_matrix_{feature}_{strategy}_{temperature}_{recursion}.csv')\n",
    "    plt.figure(figsize=(8, 6))\n",
    "    sns.heatmap(correlation_matrix, annot=True, cmap='coolwarm', linewidths=.5)\n",
    "    # Customize the plot (add labels, title, etc. if needed)\n",
    "    plt.title(f'Correlation Heatmap {strategy} {temperature}')\n",
    "    plt.show()\n",
    "    # plt.savefig(\n",
    "    #     f'Results/Correlation_Analysis/images/correlation_matrix_{feature}_{strategy}_{variation}_{temperature}_{recursion}.png',\n",
    "    #     bbox_inches='tight')\n",
    "    return correlation_matrix\n",
    "\n",
    "\n",
    "def plot_individual_experiments(feature, strategy, temperature):\n",
    "    plt.figure(figsize=(8, 6))\n",
    "    plt.plot(df.index, df[f'{feature} 1'], label=f'{feature} Experiment 1')\n",
    "    plt.plot(df.index, df[f'{feature} 2'], label=f'{feature} Experiment 2')\n",
    "    plt.plot(df.index, df[f'{feature} 3'], label=f'{feature} Experiment 3')\n",
    "    plt.legend()\n",
    "    plt.title(f'Lineplot for {strategy} and {temperature}')\n",
    "    plt.xlabel(feature)\n",
    "    plt.tight_layout()\n",
    "    plt.show()\n",
    "\n",
    "\n",
    "def find_matching_files(pattern_0, pattern_1,pattern_2):\n",
    "    filenames = []\n",
    "\n",
    "    dir_name = 'Results/ID'\n",
    "    for filename in os.listdir(dir_name):\n",
    "        match = re.match(pattern_0, filename) or re.match(pattern_1, filename) or re.match(pattern_2, filename)\n",
    "        if match:\n",
    "            filenames.append(os.path.join(dir_name, filename))\n",
    "    return filenames\n",
    "\n",
    "\n",
    "def extract_data_for_given_run_for_all_variations(pattern_0, pattern_1, pattern_2):\n",
    "    all_filenames = find_matching_files(pattern_0, pattern_1, pattern_2)\n",
    "    all_runs_df = pd.DataFrame()\n",
    "    warnings.filterwarnings(\"ignore\", category=SettingWithCopyWarning)\n",
    "    for i, filename in enumerate(all_filenames):\n",
    "        results_sample_df = pd.read_csv(filename)\n",
    "        for col, pattern in regex_patterns.items():\n",
    "            all_runs_df[f'{col} {i}'] = results_sample_df['Formulation'].str.extract(pattern, flags=re.DOTALL,\n",
    "                                                                                     expand=False)\n",
    "            if col.startswith('materials'):\n",
    "                all_runs_df[f'{col} {i}'] = all_runs_df[f'{col} {i}'].str[:3]\n",
    "            if col.startswith('curing'):\n",
    "                all_runs_df[f'{col} {i}'][all_runs_df[f'{col} {i}'].astype(str).str.startswith('Heat')] = 0\n",
    "                all_runs_df[f'{col} {i}'][all_runs_df[f'{col} {i}'].astype(str).str.startswith('heat')] = 0\n",
    "                all_runs_df[f'{col} {i}'][all_runs_df[f'{col} {i}'].astype(str).str.startswith('Ambient')] = 1\n",
    "                all_runs_df[f'{col} {i}'][all_runs_df[f'{col} {i}'].astype(str).str.startswith('ambient')] = 1\n",
    "\n",
    "    return all_runs_df, all_filenames\n",
    "\n",
    "\n",
    "def pca_and_corr_on_all_features(df):\n",
    "    correlation_matrix = df.corr()\n",
    "    correlation_matrix = correlation_matrix.apply(lambda x: round(x, 8))\n",
    "    plt.figure(figsize=(8, 6))\n",
    "    sns.heatmap(correlation_matrix, annot=True, cmap='coolwarm', linewidths=.5)\n",
    "    # Customize the plot (add labels, title, etc. if needed)\n",
    "    plt.title('Correlation Heatmap between Lineplots')\n",
    "    plt.show()\n",
    "    pca = PCA(n_components=1)\n",
    "    data = pd.DataFrame(correlation_matrix)\n",
    "    pca.fit(data)\n",
    "    # Get the first principal component\n",
    "    first_principal_component = pca.components_[0]\n",
    "    explained_variance_ratio = pca.explained_variance_ratio_\n",
    "    print(\"Explained Variance Ratio:\", explained_variance_ratio)\n",
    "    print(\"First Principal Component (Overall Relationship):\", first_principal_component)"
   ]
  },
  {
   "cell_type": "code",
   "execution_count": null,
   "outputs": [],
   "source": [
    "from itertools import product\n",
    "\n",
    "all_combinations = list(product(strategies, temperatures, recursions))"
   ],
   "metadata": {
    "collapsed": false,
    "pycharm": {
     "name": "#%%\n"
    }
   }
  },
  {
   "cell_type": "markdown",
   "source": [
    "#### Correlation Analyses between different runs"
   ],
   "metadata": {
    "collapsed": false,
    "pycharm": {
     "name": "#%% md\n",
     "is_executing": true
    }
   }
  },
  {
   "cell_type": "code",
   "execution_count": null,
   "outputs": [],
   "source": [
    "for combination in all_combinations:\n",
    "    strategy = combination[0]\n",
    "    temperature = combination[1]\n",
    "    recursion = combination[2]\n",
    "\n",
    "    print(f'####### Run with strategy {strategy}, temperature {temperature} and recursion {recursion} #########')\n",
    "\n",
    "    pattern_0 = fr'gpt-3.5-turbo_{strategy} 0_prompt_experiment_(\\d+)_temp_{temperature}_target_(\\d+)_\\%_Dev_Budget_(\\d+)_recursive_{recursion}_(\\d+)\\.csv'\n",
    "    pattern_1 = fr'gpt-3.5-turbo_{strategy} 1_prompt_experiment_(\\d+)_temp_{temperature}_target_(\\d+)_\\%_Dev_Budget_(\\d+)_recursive_{recursion}_(\\d+)\\.csv'\n",
    "    pattern_2 = fr'gpt-3.5-turbo_{strategy} 2_prompt_experiment_(\\d+)_temp_{temperature}_target_(\\d+)_\\%_Dev_Budget_(\\d+)_recursive_{recursion}_(\\d+)\\.csv'\n",
    "\n",
    "    all_results_df, matching_filenames = extract_data_for_given_run_for_all_variations(pattern_0, pattern_1, pattern_2)\n",
    "\n",
    "\n",
    "    warnings.filterwarnings(\"default\")\n",
    "\n",
    "    features = ['Powderkg', 'wc', 'materials', 'curing']\n",
    "    for feature in features:\n",
    "        print(f'################ Feature {feature} ################')\n",
    "        data = {}\n",
    "        for i in range(len(matching_filenames)):\n",
    "            data[f'{feature} {i}'] = list(all_results_df[f'{feature} {i}'].values)\n",
    "\n",
    "        df = pd.DataFrame(data)\n",
    "        correlation_matrix = perform_correlation_analysis(feature, strategy, temperature, recursion)\n",
    "        # plot_individual_experiments(feature, strategy, temperature)\n",
    "        find_explained_variance_using_pca(correlation_matrix, feature, strategy, temperature)\n",
    "\n",
    "        df_transpose = df.T\n",
    "        if feature == 'Powderkg':\n",
    "            all_features_df = df_transpose.values\n",
    "        else:\n",
    "            all_features_df = np.hstack((all_features_df, df_transpose.values))\n",
    "\n",
    "    df = pd.DataFrame(all_features_df).T\n",
    "    df.head(30)\n",
    "\n",
    "    scaler = MinMaxScaler()\n",
    "    scaler.fit(df)\n",
    "\n",
    "    scaled_df = pd.DataFrame(scaler.transform(df), columns=df.columns)\n",
    "\n",
    "    plt.plot(scaled_df.index, scaled_df[1].astype(str))\n",
    "    plt.plot(scaled_df.index, scaled_df[2].astype(str))\n",
    "    plt.gca().invert_yaxis()\n",
    "    plt.show()"
   ],
   "metadata": {
    "collapsed": false,
    "pycharm": {
     "name": "#%%\n"
    }
   }
  }
 ],
 "metadata": {
  "kernelspec": {
   "display_name": "Python 3",
   "language": "python",
   "name": "python3"
  },
  "language_info": {
   "codemirror_mode": {
    "name": "ipython",
    "version": 3
   },
   "file_extension": ".py",
   "mimetype": "text/x-python",
   "name": "python",
   "nbconvert_exporter": "python",
   "pygments_lexer": "ipython3",
   "version": "3.9.12"
  }
 },
 "nbformat": 4,
 "nbformat_minor": 1
}