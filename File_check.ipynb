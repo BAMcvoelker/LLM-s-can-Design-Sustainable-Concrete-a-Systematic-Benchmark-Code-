{
 "cells": [
  {
   "cell_type": "markdown",
   "id": "4dbc8737",
   "metadata": {},
   "source": [
    "## Check filenames and rename if not compatibel with windows os."
   ]
  },
  {
   "cell_type": "code",
   "execution_count": 1,
   "id": "640719d6",
   "metadata": {},
   "outputs": [
    {
     "name": "stdout",
     "output_type": "stream",
     "text": [
      "Requirement already satisfied: tqdm in /Users/christophvoelker/opt/anaconda3/lib/python3.9/site-packages (4.64.0)\r\n"
     ]
    },
    {
     "name": "stderr",
     "output_type": "stream",
     "text": [
      "Processing files: 100%|██████████| 2046/2046 [00:00<00:00, 106661.36file/s]"
     ]
    },
    {
     "name": "stdout",
     "output_type": "stream",
     "text": [
      "\n",
      "Total files scanned: 2046\n",
      "Total filenames changed: 0\n"
     ]
    },
    {
     "name": "stderr",
     "output_type": "stream",
     "text": [
      "\n"
     ]
    }
   ],
   "source": [
    "!pip install tqdm\n",
    "import os\n",
    "from tqdm import tqdm\n",
    "\n",
    "\n",
    "def is_valid_filename(filename):\n",
    "    # Check for reserved characters\n",
    "    if any(char in filename for char in '<>:\"/\\\\|?*'):\n",
    "        return False\n",
    "    \n",
    "    # Check for control characters\n",
    "    if any(0 <= ord(char) <= 31 for char in filename):\n",
    "        return False\n",
    "\n",
    "    # Check for reserved filenames without considering extensions\n",
    "    name_without_extension = filename.split('.')[0].upper()\n",
    "    if name_without_extension in ['CON', 'PRN', 'AUX', 'NUL'] + [f\"COM{i}\" for i in range(1, 10)] + [f\"LPT{i}\" for i in range(1, 10)]:\n",
    "        return False\n",
    "    \n",
    "    # Check for filenames ending with a period or space\n",
    "    if filename[-1] in ['.', ' ']:\n",
    "        return False\n",
    "    \n",
    "    return True\n",
    "\n",
    "def rename_file(filepath):\n",
    "    base_dir, old_name = os.path.split(filepath)\n",
    "    base_name, ext = os.path.splitext(old_name)\n",
    "    new_name = base_name + \"_renamed\" + ext\n",
    "    new_path = os.path.join(base_dir, new_name)\n",
    "    \n",
    "    counter = 1\n",
    "    while not is_valid_filename(new_name) or os.path.exists(new_path):\n",
    "        new_name = base_name + f\"_renamed_{counter}\" + ext\n",
    "        new_path = os.path.join(base_dir, new_name)\n",
    "        counter += 1\n",
    "    \n",
    "    os.rename(filepath, new_path)\n",
    "    print(f\"Renamed '{old_name}' to '{new_name}'\")\n",
    "\n",
    "def main():\n",
    "    script_dir = os.getcwd()\n",
    "    all_files = [os.path.join(dirpath, filename) \n",
    "                 for dirpath, _, filenames in os.walk(script_dir) \n",
    "                 for filename in filenames]\n",
    "\n",
    "    changed_count = 0\n",
    "\n",
    "    # Process each file with a progress bar from tqdm\n",
    "    for filepath in tqdm(all_files, desc=\"Processing files\", unit=\"file\"):\n",
    "        filename = os.path.basename(filepath)\n",
    "        if not is_valid_filename(filename):\n",
    "            rename_file(filepath)\n",
    "            changed_count += 1\n",
    "\n",
    "    print(f\"\\nTotal files scanned: {len(all_files)}\")\n",
    "    print(f\"Total filenames changed: {changed_count}\")\n",
    "\n",
    "if __name__ == '__main__':\n",
    "    main()\n",
    "\n"
   ]
  },
  {
   "cell_type": "code",
   "execution_count": null,
   "id": "bd39d0c8",
   "metadata": {},
   "outputs": [],
   "source": []
  },
  {
   "cell_type": "code",
   "execution_count": null,
   "id": "3ff6393a",
   "metadata": {},
   "outputs": [],
   "source": []
  }
 ],
 "metadata": {
  "kernelspec": {
   "display_name": "Python 3",
   "language": "python",
   "name": "python3"
  },
  "language_info": {
   "codemirror_mode": {
    "name": "ipython",
    "version": 3
   },
   "file_extension": ".py",
   "mimetype": "text/x-python",
   "name": "python",
   "nbconvert_exporter": "python",
   "pygments_lexer": "ipython3",
   "version": "3.9.12"
  }
 },
 "nbformat": 4,
 "nbformat_minor": 5
}
