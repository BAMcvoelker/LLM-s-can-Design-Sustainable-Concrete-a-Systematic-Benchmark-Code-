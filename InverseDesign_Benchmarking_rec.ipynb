{
 "cells": [
  {
   "cell_type": "markdown",
   "id": "afb222bf",
   "metadata": {},
   "source": [
    "## Usage Guidelines for this Jupyter Notebook\n",
    "\n",
    "### Important Precautions\n",
    "\n",
    "- **Unsupervised Execution**: Avoid running this notebook unsupervised. Despite our efforts to develop robust code, it may occasionally get stuck in an infinite loop, where each iteration can incur costs.\n",
    "- **GPT-4 Model**: Exercise caution when using the GPT-4 model due to its high expense.\n",
    "- **Cell Execution**: Execute each cell individually and sequentially to ensure settings from the previous cell are correctly passed to the subsequent one.\n",
    "- **Save Prompts**: Make sure to click the save button if you have changed the prompts. This will overwrite your previous prompts.\n",
    "\n",
    "\n",
    "### Usage Instructions\n",
    "\n",
    "- **Dependencies**: This notebook relies on `ID_Utilities` and `ID_Settings` notebooks. You may need to debug these notebooks as well.\n",
    "- **Result Analysis**: This notebook only generates results as CSV files. To analyze the results, please execute the 'Inverse Design Results' notebook.\n"
   ]
  },
  {
   "cell_type": "code",
   "execution_count": 3,
   "id": "7d015633",
   "metadata": {},
   "outputs": [],
   "source": [
    "import os\n",
    "from dotenv import load_dotenv\n",
    "load_dotenv()\n",
    "api_key = os.getenv('API_KEY')\n",
    "openai.api_key = api_key"
   ]
  },
  {
   "cell_type": "code",
   "execution_count": 4,
   "id": "b4465a80",
   "metadata": {
    "scrolled": false
   },
   "outputs": [
    {
     "data": {
      "application/vnd.jupyter.widget-view+json": {
       "model_id": "99421f22fe5a407aab196b0ea6336533",
       "version_major": 2,
       "version_minor": 0
      },
      "text/plain": [
       "VBox(children=(HTML(value='<h2>Settings of Inverse Design Experiments</h2>'), HBox(children=(VBox(children=(Dr…"
      ]
     },
     "metadata": {},
     "output_type": "display_data"
    }
   ],
   "source": [
    "%run utils/ID_settings_rec.ipynb\n",
    "display(settings)"
   ]
  },
  {
   "cell_type": "code",
   "execution_count": 5,
   "id": "218b3951",
   "metadata": {
    "scrolled": false
   },
   "outputs": [
    {
     "name": "stdout",
     "output_type": "stream",
     "text": [
      "SUMMARY\n",
      "The design target is to achieve a strength of  64.86370000000001 MPa within  10  development cycles.\n",
      "The Experiment is repeated  5  times using the  gpt-3.5-turbo  model and the prompt strategy:  None 0 .\n",
      "There are  3  formulations above or equal to desired_strength.\n"
     ]
    },
    {
     "data": {
      "application/vnd.jupyter.widget-view+json": {
       "model_id": "1a73561c51d141b4ae5aa8c54cc11b8e",
       "version_major": 2,
       "version_minor": 0
      },
      "text/plain": [
       "VBox(children=(HTML(value='<h2>Edit Prompts</h2>'), HBox(children=(Textarea(value='//// These are great Result…"
      ]
     },
     "metadata": {},
     "output_type": "display_data"
    }
   ],
   "source": [
    "%run utils/ID_Utilities_rec.ipynb\n",
    "display(Prompts)"
   ]
  },
  {
   "cell_type": "markdown",
   "id": "ae7c5214",
   "metadata": {
    "scrolled": true
   },
   "source": [
    "## Run Experiment"
   ]
  },
  {
   "cell_type": "code",
   "execution_count": 4,
   "id": "a05c8ab8",
   "metadata": {
    "scrolled": false
   },
   "outputs": [
    {
     "name": "stdout",
     "output_type": "stream",
     "text": [
      "\n",
      "---\n",
      "Starting experiment 1...\n",
      "---\n",
      "\n",
      "---\n",
      "Starting iteration 1 at temp 0.0...\n",
      "--- Conversation History ---\n",
      "system: ////You are a powerful concrete formulation prediction model tasked with finding the best concrete formulation that maximizes compressive strength. Your predictions will be validated in the Laboratory and you will receive the real-world performance. You will learn from the feedback provided to improve your previous suggestions to find a perfect mix design. Make sure that every formulation lies exactly on this parameter grid: //powder content in kg: 360, 370, 380, 390,400, 410, 420, 430, 440, 450 //water-to-cement (WC) ratio: 0.45, 0.5, 0.55, 0.6 //Materials: Fly-Ash/GGBFS at a ratio: 0.7/0.3, 0.6/0.4, 0.5/0.5 //curing: Ambient curing/Heat curing  ////You are able to incorporate design rules and lab validations to improve your predictions. You can only answer in this exact format with no additional explanations or context: 'The formulation is Powderkg = {your estimate}, wc = {your estimate}, materials = {your estimate}, curing = {your estimate}'\n",
      "////General design rules //The FA/GGBFS ratio change from 0.7/0.3 to 0.5/0.5 increases compressive strength due to the higher pozzolanic activity of GGBFS //The WC ratio increase from 0.45 to 0.6 decreases compressive strength due to the dilution of the cementitious matrix //Heat curing enhances compressive strength compared to ambient curing due to the accelerated geopolymerization process //The powder content increase from 360kg to 450kg improves compressive strength due to the increased density of the concrete matrix //However, the interplay between these parameters is complex: a high FA/GGBFS ratio may require a higher WC ratio to maintain workability, while a high powder content may necessitate heat curing to ensure complete geopolymerization //Therefore, the optimal formulation for maximum compressive strength would likely involve a balanced FA/GGBFS ratio, a low WC ratio, heat curing, and a high powder content //However, these parameters should be adjusted based on specific project requirements and constraints.\n",
      "Model Response:  The formulation is Powderkg = 450, wc = 0.45, materials = 0.5/0.5, curing = Heat curing\n",
      "The suggested formulation achieved a strength of  54.97  MPa.\n",
      "\n",
      "---\n",
      "Starting iteration 2 at temp 0.0...\n",
      "--- Conversation History ---\n",
      "system: ////You are a powerful concrete formulation prediction model tasked with finding the best concrete formulation that maximizes compressive strength. Your predictions will be validated in the Laboratory and you will receive the real-world performance. You will learn from the feedback provided to improve your previous suggestions to find a perfect mix design. Make sure that every formulation lies exactly on this parameter grid: //powder content in kg: 360, 370, 380, 390,400, 410, 420, 430, 440, 450 //water-to-cement (WC) ratio: 0.45, 0.5, 0.55, 0.6 //Materials: Fly-Ash/GGBFS at a ratio: 0.7/0.3, 0.6/0.4, 0.5/0.5 //curing: Ambient curing/Heat curing  ////You are able to incorporate design rules and lab validations to improve your predictions. You can only answer in this exact format with no additional explanations or context: 'The formulation is Powderkg = {your estimate}, wc = {your estimate}, materials = {your estimate}, curing = {your estimate}'\n",
      "////General design rules //The FA/GGBFS ratio change from 0.7/0.3 to 0.5/0.5 increases compressive strength due to the higher pozzolanic activity of GGBFS //The WC ratio increase from 0.45 to 0.6 decreases compressive strength due to the dilution of the cementitious matrix //Heat curing enhances compressive strength compared to ambient curing due to the accelerated geopolymerization process //The powder content increase from 360kg to 450kg improves compressive strength due to the increased density of the concrete matrix //However, the interplay between these parameters is complex: a high FA/GGBFS ratio may require a higher WC ratio to maintain workability, while a high powder content may necessitate heat curing to ensure complete geopolymerization //Therefore, the optimal formulation for maximum compressive strength would likely involve a balanced FA/GGBFS ratio, a low WC ratio, heat curing, and a high powder content //However, these parameters should be adjusted based on specific project requirements and constraints.\n",
      "assistant: Previously, we have tested these formulations with the following result:\n",
      "The formulation is Powderkg = 450, wc = 0.45, materials = 0.5/0.5, curing = Heat curing resulted in a strength of 54.97 MPa.\n",
      "user: //// These are great Results! However, we have to go far and beyond! Give me an even better suggestion! You may need to take a risk to find the best solution. Make sure your next suggestion is unique and has not been validated before! \n",
      "Model Response:  The formulation is Powderkg = 440, wc = 0.5, materials = 0.6/0.4, curing = Heat curing.\n",
      "The suggested formulation achieved a strength of  61.61  MPa.\n",
      "\n",
      "---\n",
      "Starting iteration 3 at temp 0.0...\n",
      "--- Conversation History ---\n",
      "system: ////You are a powerful concrete formulation prediction model tasked with finding the best concrete formulation that maximizes compressive strength. Your predictions will be validated in the Laboratory and you will receive the real-world performance. You will learn from the feedback provided to improve your previous suggestions to find a perfect mix design. Make sure that every formulation lies exactly on this parameter grid: //powder content in kg: 360, 370, 380, 390,400, 410, 420, 430, 440, 450 //water-to-cement (WC) ratio: 0.45, 0.5, 0.55, 0.6 //Materials: Fly-Ash/GGBFS at a ratio: 0.7/0.3, 0.6/0.4, 0.5/0.5 //curing: Ambient curing/Heat curing  ////You are able to incorporate design rules and lab validations to improve your predictions. You can only answer in this exact format with no additional explanations or context: 'The formulation is Powderkg = {your estimate}, wc = {your estimate}, materials = {your estimate}, curing = {your estimate}'\n",
      "////General design rules //The FA/GGBFS ratio change from 0.7/0.3 to 0.5/0.5 increases compressive strength due to the higher pozzolanic activity of GGBFS //The WC ratio increase from 0.45 to 0.6 decreases compressive strength due to the dilution of the cementitious matrix //Heat curing enhances compressive strength compared to ambient curing due to the accelerated geopolymerization process //The powder content increase from 360kg to 450kg improves compressive strength due to the increased density of the concrete matrix //However, the interplay between these parameters is complex: a high FA/GGBFS ratio may require a higher WC ratio to maintain workability, while a high powder content may necessitate heat curing to ensure complete geopolymerization //Therefore, the optimal formulation for maximum compressive strength would likely involve a balanced FA/GGBFS ratio, a low WC ratio, heat curing, and a high powder content //However, these parameters should be adjusted based on specific project requirements and constraints.\n",
      "assistant: Previously, we have tested these formulations with the following result:\n",
      "The formulation is Powderkg = 450, wc = 0.45, materials = 0.5/0.5, curing = Heat curing resulted in a strength of 54.97 MPa.\n",
      "The formulation is Powderkg = 440, wc = 0.5, materials = 0.6/0.4, curing = Heat curing. resulted in a strength of 61.61 MPa.\n",
      "user: //// These are great Results! However, we have to go far and beyond! Give me an even better suggestion! You may need to take a risk to find the best solution. Make sure your next suggestion is unique and has not been validated before! \n",
      "Model Response:  The formulation is Powderkg = 410, wc = 0.45, materials = 0.7/0.3, curing = Heat curing.\n",
      "The suggested formulation achieved a strength of  40.59  MPa.\n",
      "\n",
      "---\n",
      "Starting iteration 4 at temp 0.0...\n",
      "--- Conversation History ---\n",
      "system: ////You are a powerful concrete formulation prediction model tasked with finding the best concrete formulation that maximizes compressive strength. Your predictions will be validated in the Laboratory and you will receive the real-world performance. You will learn from the feedback provided to improve your previous suggestions to find a perfect mix design. Make sure that every formulation lies exactly on this parameter grid: //powder content in kg: 360, 370, 380, 390,400, 410, 420, 430, 440, 450 //water-to-cement (WC) ratio: 0.45, 0.5, 0.55, 0.6 //Materials: Fly-Ash/GGBFS at a ratio: 0.7/0.3, 0.6/0.4, 0.5/0.5 //curing: Ambient curing/Heat curing  ////You are able to incorporate design rules and lab validations to improve your predictions. You can only answer in this exact format with no additional explanations or context: 'The formulation is Powderkg = {your estimate}, wc = {your estimate}, materials = {your estimate}, curing = {your estimate}'\n",
      "////General design rules //The FA/GGBFS ratio change from 0.7/0.3 to 0.5/0.5 increases compressive strength due to the higher pozzolanic activity of GGBFS //The WC ratio increase from 0.45 to 0.6 decreases compressive strength due to the dilution of the cementitious matrix //Heat curing enhances compressive strength compared to ambient curing due to the accelerated geopolymerization process //The powder content increase from 360kg to 450kg improves compressive strength due to the increased density of the concrete matrix //However, the interplay between these parameters is complex: a high FA/GGBFS ratio may require a higher WC ratio to maintain workability, while a high powder content may necessitate heat curing to ensure complete geopolymerization //Therefore, the optimal formulation for maximum compressive strength would likely involve a balanced FA/GGBFS ratio, a low WC ratio, heat curing, and a high powder content //However, these parameters should be adjusted based on specific project requirements and constraints.\n",
      "assistant: Previously, we have tested these formulations with the following result:\n",
      "The formulation is Powderkg = 450, wc = 0.45, materials = 0.5/0.5, curing = Heat curing resulted in a strength of 54.97 MPa.\n",
      "The formulation is Powderkg = 440, wc = 0.5, materials = 0.6/0.4, curing = Heat curing. resulted in a strength of 61.61 MPa.\n",
      "The formulation is Powderkg = 410, wc = 0.45, materials = 0.7/0.3, curing = Heat curing. resulted in a strength of 40.59 MPa.\n",
      "user: //// These are great Results! However, we have to go far and beyond! Give me an even better suggestion! You may need to take a risk to find the best solution. Make sure your next suggestion is unique and has not been validated before! \n"
     ]
    },
    {
     "name": "stdout",
     "output_type": "stream",
     "text": [
      "Model Response:  The formulation is Powderkg = 430, wc = 0.55, materials = 0.6/0.4, curing = Ambient curing.\n",
      "The suggested formulation achieved a strength of  43.71  MPa.\n",
      "\n",
      "---\n",
      "Starting iteration 5 at temp 0.0...\n",
      "--- Conversation History ---\n",
      "system: ////You are a powerful concrete formulation prediction model tasked with finding the best concrete formulation that maximizes compressive strength. Your predictions will be validated in the Laboratory and you will receive the real-world performance. You will learn from the feedback provided to improve your previous suggestions to find a perfect mix design. Make sure that every formulation lies exactly on this parameter grid: //powder content in kg: 360, 370, 380, 390,400, 410, 420, 430, 440, 450 //water-to-cement (WC) ratio: 0.45, 0.5, 0.55, 0.6 //Materials: Fly-Ash/GGBFS at a ratio: 0.7/0.3, 0.6/0.4, 0.5/0.5 //curing: Ambient curing/Heat curing  ////You are able to incorporate design rules and lab validations to improve your predictions. You can only answer in this exact format with no additional explanations or context: 'The formulation is Powderkg = {your estimate}, wc = {your estimate}, materials = {your estimate}, curing = {your estimate}'\n",
      "////General design rules //The FA/GGBFS ratio change from 0.7/0.3 to 0.5/0.5 increases compressive strength due to the higher pozzolanic activity of GGBFS //The WC ratio increase from 0.45 to 0.6 decreases compressive strength due to the dilution of the cementitious matrix //Heat curing enhances compressive strength compared to ambient curing due to the accelerated geopolymerization process //The powder content increase from 360kg to 450kg improves compressive strength due to the increased density of the concrete matrix //However, the interplay between these parameters is complex: a high FA/GGBFS ratio may require a higher WC ratio to maintain workability, while a high powder content may necessitate heat curing to ensure complete geopolymerization //Therefore, the optimal formulation for maximum compressive strength would likely involve a balanced FA/GGBFS ratio, a low WC ratio, heat curing, and a high powder content //However, these parameters should be adjusted based on specific project requirements and constraints.\n",
      "assistant: Previously, we have tested these formulations with the following result:\n",
      "The formulation is Powderkg = 450, wc = 0.45, materials = 0.5/0.5, curing = Heat curing resulted in a strength of 54.97 MPa.\n",
      "The formulation is Powderkg = 440, wc = 0.5, materials = 0.6/0.4, curing = Heat curing. resulted in a strength of 61.61 MPa.\n",
      "The formulation is Powderkg = 410, wc = 0.45, materials = 0.7/0.3, curing = Heat curing. resulted in a strength of 40.59 MPa.\n",
      "The formulation is Powderkg = 430, wc = 0.55, materials = 0.6/0.4, curing = Ambient curing. resulted in a strength of 43.71 MPa.\n",
      "user: //// These are great Results! However, we have to go far and beyond! Give me an even better suggestion! You may need to take a risk to find the best solution. Make sure your next suggestion is unique and has not been validated before! \n",
      "Model Response:  The formulation is Powderkg = 400, wc = 0.5, materials = 0.5/0.5, curing = Heat curing.\n",
      "The suggested formulation achieved a strength of  64.6  MPa.\n",
      "\n",
      "---\n",
      "Starting iteration 6 at temp 0.0...\n",
      "--- Conversation History ---\n",
      "system: ////You are a powerful concrete formulation prediction model tasked with finding the best concrete formulation that maximizes compressive strength. Your predictions will be validated in the Laboratory and you will receive the real-world performance. You will learn from the feedback provided to improve your previous suggestions to find a perfect mix design. Make sure that every formulation lies exactly on this parameter grid: //powder content in kg: 360, 370, 380, 390,400, 410, 420, 430, 440, 450 //water-to-cement (WC) ratio: 0.45, 0.5, 0.55, 0.6 //Materials: Fly-Ash/GGBFS at a ratio: 0.7/0.3, 0.6/0.4, 0.5/0.5 //curing: Ambient curing/Heat curing  ////You are able to incorporate design rules and lab validations to improve your predictions. You can only answer in this exact format with no additional explanations or context: 'The formulation is Powderkg = {your estimate}, wc = {your estimate}, materials = {your estimate}, curing = {your estimate}'\n",
      "////General design rules //The FA/GGBFS ratio change from 0.7/0.3 to 0.5/0.5 increases compressive strength due to the higher pozzolanic activity of GGBFS //The WC ratio increase from 0.45 to 0.6 decreases compressive strength due to the dilution of the cementitious matrix //Heat curing enhances compressive strength compared to ambient curing due to the accelerated geopolymerization process //The powder content increase from 360kg to 450kg improves compressive strength due to the increased density of the concrete matrix //However, the interplay between these parameters is complex: a high FA/GGBFS ratio may require a higher WC ratio to maintain workability, while a high powder content may necessitate heat curing to ensure complete geopolymerization //Therefore, the optimal formulation for maximum compressive strength would likely involve a balanced FA/GGBFS ratio, a low WC ratio, heat curing, and a high powder content //However, these parameters should be adjusted based on specific project requirements and constraints.\n",
      "assistant: Previously, we have tested these formulations with the following result:\n",
      "The formulation is Powderkg = 450, wc = 0.45, materials = 0.5/0.5, curing = Heat curing resulted in a strength of 54.97 MPa.\n",
      "The formulation is Powderkg = 440, wc = 0.5, materials = 0.6/0.4, curing = Heat curing. resulted in a strength of 61.61 MPa.\n",
      "The formulation is Powderkg = 410, wc = 0.45, materials = 0.7/0.3, curing = Heat curing. resulted in a strength of 40.59 MPa.\n",
      "The formulation is Powderkg = 430, wc = 0.55, materials = 0.6/0.4, curing = Ambient curing. resulted in a strength of 43.71 MPa.\n",
      "The formulation is Powderkg = 400, wc = 0.5, materials = 0.5/0.5, curing = Heat curing. resulted in a strength of 64.6 MPa.\n",
      "user: //// These are great Results! However, we have to go far and beyond! Give me an even better suggestion! You may need to take a risk to find the best solution. Make sure your next suggestion is unique and has not been validated before! \n",
      "Model Response:  The formulation is Powderkg = 420, wc = 0.6, materials = 0.7/0.3, curing = Ambient curing.\n",
      "The suggested formulation achieved a strength of  25.11  MPa.\n",
      "\n",
      "---\n",
      "Starting iteration 7 at temp 0.0...\n",
      "--- Conversation History ---\n",
      "system: ////You are a powerful concrete formulation prediction model tasked with finding the best concrete formulation that maximizes compressive strength. Your predictions will be validated in the Laboratory and you will receive the real-world performance. You will learn from the feedback provided to improve your previous suggestions to find a perfect mix design. Make sure that every formulation lies exactly on this parameter grid: //powder content in kg: 360, 370, 380, 390,400, 410, 420, 430, 440, 450 //water-to-cement (WC) ratio: 0.45, 0.5, 0.55, 0.6 //Materials: Fly-Ash/GGBFS at a ratio: 0.7/0.3, 0.6/0.4, 0.5/0.5 //curing: Ambient curing/Heat curing  ////You are able to incorporate design rules and lab validations to improve your predictions. You can only answer in this exact format with no additional explanations or context: 'The formulation is Powderkg = {your estimate}, wc = {your estimate}, materials = {your estimate}, curing = {your estimate}'\n",
      "////General design rules //The FA/GGBFS ratio change from 0.7/0.3 to 0.5/0.5 increases compressive strength due to the higher pozzolanic activity of GGBFS //The WC ratio increase from 0.45 to 0.6 decreases compressive strength due to the dilution of the cementitious matrix //Heat curing enhances compressive strength compared to ambient curing due to the accelerated geopolymerization process //The powder content increase from 360kg to 450kg improves compressive strength due to the increased density of the concrete matrix //However, the interplay between these parameters is complex: a high FA/GGBFS ratio may require a higher WC ratio to maintain workability, while a high powder content may necessitate heat curing to ensure complete geopolymerization //Therefore, the optimal formulation for maximum compressive strength would likely involve a balanced FA/GGBFS ratio, a low WC ratio, heat curing, and a high powder content //However, these parameters should be adjusted based on specific project requirements and constraints.\n",
      "assistant: Previously, we have tested these formulations with the following result:\n",
      "The formulation is Powderkg = 450, wc = 0.45, materials = 0.5/0.5, curing = Heat curing resulted in a strength of 54.97 MPa.\n",
      "The formulation is Powderkg = 440, wc = 0.5, materials = 0.6/0.4, curing = Heat curing. resulted in a strength of 61.61 MPa.\n",
      "The formulation is Powderkg = 410, wc = 0.45, materials = 0.7/0.3, curing = Heat curing. resulted in a strength of 40.59 MPa.\n",
      "The formulation is Powderkg = 430, wc = 0.55, materials = 0.6/0.4, curing = Ambient curing. resulted in a strength of 43.71 MPa.\n",
      "The formulation is Powderkg = 400, wc = 0.5, materials = 0.5/0.5, curing = Heat curing. resulted in a strength of 64.6 MPa.\n",
      "The formulation is Powderkg = 420, wc = 0.6, materials = 0.7/0.3, curing = Ambient curing. resulted in a strength of 25.11 MPa.\n",
      "user: //// These are great Results! However, we have to go far and beyond! Give me an even better suggestion! You may need to take a risk to find the best solution. Make sure your next suggestion is unique and has not been validated before! \n"
     ]
    },
    {
     "name": "stdout",
     "output_type": "stream",
     "text": [
      "Model Response:  The formulation is Powderkg = 450, wc = 0.45, materials = 0.6/0.4, curing = Heat curing.\n",
      "The suggested formulation achieved a strength of  56.56  MPa.\n",
      "\n",
      "---\n",
      "Starting iteration 8 at temp 0.0...\n",
      "--- Conversation History ---\n",
      "system: ////You are a powerful concrete formulation prediction model tasked with finding the best concrete formulation that maximizes compressive strength. Your predictions will be validated in the Laboratory and you will receive the real-world performance. You will learn from the feedback provided to improve your previous suggestions to find a perfect mix design. Make sure that every formulation lies exactly on this parameter grid: //powder content in kg: 360, 370, 380, 390,400, 410, 420, 430, 440, 450 //water-to-cement (WC) ratio: 0.45, 0.5, 0.55, 0.6 //Materials: Fly-Ash/GGBFS at a ratio: 0.7/0.3, 0.6/0.4, 0.5/0.5 //curing: Ambient curing/Heat curing  ////You are able to incorporate design rules and lab validations to improve your predictions. You can only answer in this exact format with no additional explanations or context: 'The formulation is Powderkg = {your estimate}, wc = {your estimate}, materials = {your estimate}, curing = {your estimate}'\n",
      "////General design rules //The FA/GGBFS ratio change from 0.7/0.3 to 0.5/0.5 increases compressive strength due to the higher pozzolanic activity of GGBFS //The WC ratio increase from 0.45 to 0.6 decreases compressive strength due to the dilution of the cementitious matrix //Heat curing enhances compressive strength compared to ambient curing due to the accelerated geopolymerization process //The powder content increase from 360kg to 450kg improves compressive strength due to the increased density of the concrete matrix //However, the interplay between these parameters is complex: a high FA/GGBFS ratio may require a higher WC ratio to maintain workability, while a high powder content may necessitate heat curing to ensure complete geopolymerization //Therefore, the optimal formulation for maximum compressive strength would likely involve a balanced FA/GGBFS ratio, a low WC ratio, heat curing, and a high powder content //However, these parameters should be adjusted based on specific project requirements and constraints.\n",
      "assistant: Previously, we have tested these formulations with the following result:\n",
      "The formulation is Powderkg = 450, wc = 0.45, materials = 0.5/0.5, curing = Heat curing resulted in a strength of 54.97 MPa.\n",
      "The formulation is Powderkg = 440, wc = 0.5, materials = 0.6/0.4, curing = Heat curing. resulted in a strength of 61.61 MPa.\n",
      "The formulation is Powderkg = 410, wc = 0.45, materials = 0.7/0.3, curing = Heat curing. resulted in a strength of 40.59 MPa.\n",
      "The formulation is Powderkg = 430, wc = 0.55, materials = 0.6/0.4, curing = Ambient curing. resulted in a strength of 43.71 MPa.\n",
      "The formulation is Powderkg = 400, wc = 0.5, materials = 0.5/0.5, curing = Heat curing. resulted in a strength of 64.6 MPa.\n",
      "The formulation is Powderkg = 420, wc = 0.6, materials = 0.7/0.3, curing = Ambient curing. resulted in a strength of 25.11 MPa.\n",
      "The formulation is Powderkg = 450, wc = 0.45, materials = 0.6/0.4, curing = Heat curing. resulted in a strength of 56.56 MPa.\n",
      "user: //// These are great Results! However, we have to go far and beyond! Give me an even better suggestion! You may need to take a risk to find the best solution. Make sure your next suggestion is unique and has not been validated before! \n",
      "Model Response:  The formulation is Powderkg = 390, wc = 0.45, materials = 0.7/0.3, curing = Heat curing.\n",
      "The suggested formulation achieved a strength of  40.96  MPa.\n",
      "\n",
      "---\n",
      "Starting iteration 9 at temp 0.0...\n",
      "--- Conversation History ---\n",
      "system: ////You are a powerful concrete formulation prediction model tasked with finding the best concrete formulation that maximizes compressive strength. Your predictions will be validated in the Laboratory and you will receive the real-world performance. You will learn from the feedback provided to improve your previous suggestions to find a perfect mix design. Make sure that every formulation lies exactly on this parameter grid: //powder content in kg: 360, 370, 380, 390,400, 410, 420, 430, 440, 450 //water-to-cement (WC) ratio: 0.45, 0.5, 0.55, 0.6 //Materials: Fly-Ash/GGBFS at a ratio: 0.7/0.3, 0.6/0.4, 0.5/0.5 //curing: Ambient curing/Heat curing  ////You are able to incorporate design rules and lab validations to improve your predictions. You can only answer in this exact format with no additional explanations or context: 'The formulation is Powderkg = {your estimate}, wc = {your estimate}, materials = {your estimate}, curing = {your estimate}'\n",
      "////General design rules //The FA/GGBFS ratio change from 0.7/0.3 to 0.5/0.5 increases compressive strength due to the higher pozzolanic activity of GGBFS //The WC ratio increase from 0.45 to 0.6 decreases compressive strength due to the dilution of the cementitious matrix //Heat curing enhances compressive strength compared to ambient curing due to the accelerated geopolymerization process //The powder content increase from 360kg to 450kg improves compressive strength due to the increased density of the concrete matrix //However, the interplay between these parameters is complex: a high FA/GGBFS ratio may require a higher WC ratio to maintain workability, while a high powder content may necessitate heat curing to ensure complete geopolymerization //Therefore, the optimal formulation for maximum compressive strength would likely involve a balanced FA/GGBFS ratio, a low WC ratio, heat curing, and a high powder content //However, these parameters should be adjusted based on specific project requirements and constraints.\n",
      "assistant: Previously, we have tested these formulations with the following result:\n",
      "The formulation is Powderkg = 450, wc = 0.45, materials = 0.5/0.5, curing = Heat curing resulted in a strength of 54.97 MPa.\n",
      "The formulation is Powderkg = 440, wc = 0.5, materials = 0.6/0.4, curing = Heat curing. resulted in a strength of 61.61 MPa.\n",
      "The formulation is Powderkg = 410, wc = 0.45, materials = 0.7/0.3, curing = Heat curing. resulted in a strength of 40.59 MPa.\n",
      "The formulation is Powderkg = 430, wc = 0.55, materials = 0.6/0.4, curing = Ambient curing. resulted in a strength of 43.71 MPa.\n",
      "The formulation is Powderkg = 400, wc = 0.5, materials = 0.5/0.5, curing = Heat curing. resulted in a strength of 64.6 MPa.\n",
      "The formulation is Powderkg = 420, wc = 0.6, materials = 0.7/0.3, curing = Ambient curing. resulted in a strength of 25.11 MPa.\n",
      "The formulation is Powderkg = 450, wc = 0.45, materials = 0.6/0.4, curing = Heat curing. resulted in a strength of 56.56 MPa.\n",
      "The formulation is Powderkg = 390, wc = 0.45, materials = 0.7/0.3, curing = Heat curing. resulted in a strength of 40.96 MPa.\n",
      "user: //// These are great Results! However, we have to go far and beyond! Give me an even better suggestion! You may need to take a risk to find the best solution. Make sure your next suggestion is unique and has not been validated before! \n",
      "Model Response:  The formulation is Powderkg = 450, wc = 0.45, materials = 0.6/0.4, curing = Ambient curing.\n",
      "The suggested formulation achieved a strength of  45.88  MPa.\n",
      "\n",
      "---\n",
      "Starting iteration 10 at temp 0.0...\n",
      "--- Conversation History ---\n",
      "system: ////You are a powerful concrete formulation prediction model tasked with finding the best concrete formulation that maximizes compressive strength. Your predictions will be validated in the Laboratory and you will receive the real-world performance. You will learn from the feedback provided to improve your previous suggestions to find a perfect mix design. Make sure that every formulation lies exactly on this parameter grid: //powder content in kg: 360, 370, 380, 390,400, 410, 420, 430, 440, 450 //water-to-cement (WC) ratio: 0.45, 0.5, 0.55, 0.6 //Materials: Fly-Ash/GGBFS at a ratio: 0.7/0.3, 0.6/0.4, 0.5/0.5 //curing: Ambient curing/Heat curing  ////You are able to incorporate design rules and lab validations to improve your predictions. You can only answer in this exact format with no additional explanations or context: 'The formulation is Powderkg = {your estimate}, wc = {your estimate}, materials = {your estimate}, curing = {your estimate}'\n",
      "////General design rules //The FA/GGBFS ratio change from 0.7/0.3 to 0.5/0.5 increases compressive strength due to the higher pozzolanic activity of GGBFS //The WC ratio increase from 0.45 to 0.6 decreases compressive strength due to the dilution of the cementitious matrix //Heat curing enhances compressive strength compared to ambient curing due to the accelerated geopolymerization process //The powder content increase from 360kg to 450kg improves compressive strength due to the increased density of the concrete matrix //However, the interplay between these parameters is complex: a high FA/GGBFS ratio may require a higher WC ratio to maintain workability, while a high powder content may necessitate heat curing to ensure complete geopolymerization //Therefore, the optimal formulation for maximum compressive strength would likely involve a balanced FA/GGBFS ratio, a low WC ratio, heat curing, and a high powder content //However, these parameters should be adjusted based on specific project requirements and constraints.\n",
      "assistant: Previously, we have tested these formulations with the following result:\n",
      "The formulation is Powderkg = 450, wc = 0.45, materials = 0.5/0.5, curing = Heat curing resulted in a strength of 54.97 MPa.\n",
      "The formulation is Powderkg = 440, wc = 0.5, materials = 0.6/0.4, curing = Heat curing. resulted in a strength of 61.61 MPa.\n",
      "The formulation is Powderkg = 410, wc = 0.45, materials = 0.7/0.3, curing = Heat curing. resulted in a strength of 40.59 MPa.\n",
      "The formulation is Powderkg = 430, wc = 0.55, materials = 0.6/0.4, curing = Ambient curing. resulted in a strength of 43.71 MPa.\n",
      "The formulation is Powderkg = 400, wc = 0.5, materials = 0.5/0.5, curing = Heat curing. resulted in a strength of 64.6 MPa.\n",
      "The formulation is Powderkg = 420, wc = 0.6, materials = 0.7/0.3, curing = Ambient curing. resulted in a strength of 25.11 MPa.\n",
      "The formulation is Powderkg = 450, wc = 0.45, materials = 0.6/0.4, curing = Heat curing. resulted in a strength of 56.56 MPa.\n",
      "The formulation is Powderkg = 390, wc = 0.45, materials = 0.7/0.3, curing = Heat curing. resulted in a strength of 40.96 MPa.\n",
      "The formulation is Powderkg = 450, wc = 0.45, materials = 0.6/0.4, curing = Ambient curing. resulted in a strength of 45.88 MPa.\n",
      "user: //// These are great Results! However, we have to go far and beyond! Give me an even better suggestion! You may need to take a risk to find the best solution. Make sure your next suggestion is unique and has not been validated before! \n"
     ]
    },
    {
     "name": "stdout",
     "output_type": "stream",
     "text": [
      "Model Response:  The formulation is Powderkg = 450, wc = 0.45, materials = 0.7/0.3, curing = Heat curing.\n",
      "The suggested formulation achieved a strength of  38.63  MPa.\n",
      "Data for experiment 1 and temp 0.0 successfully saved to Results/ID/gpt-3.5-turbo_Generic 0_prompt_experiment_1_temp_0.0_target_99_%_Dev_Budget_10_recursive_0_1700836666.csv.\n"
     ]
    }
   ],
   "source": [
    "%run utils/Run_experiments_rec.ipynb"
   ]
  },
  {
   "cell_type": "markdown",
   "id": "b99a2003",
   "metadata": {
    "scrolled": false
   },
   "source": [
    "##  Run Baseline Methods (BO,RF, RP) 30 times"
   ]
  },
  {
   "cell_type": "code",
   "execution_count": null,
   "id": "4fb65dd9",
   "metadata": {
    "scrolled": false
   },
   "outputs": [],
   "source": [
    "# %run utils/Baselines.ipynb"
   ]
  },
  {
   "cell_type": "markdown",
   "id": "be4d6fe7",
   "metadata": {},
   "source": []
  },
  {
   "cell_type": "markdown",
   "id": "7c960b5c",
   "metadata": {},
   "source": []
  }
 ],
 "metadata": {
  "kernelspec": {
   "display_name": "Python 3 (ipykernel)",
   "language": "python",
   "name": "python3"
  },
  "language_info": {
   "codemirror_mode": {
    "name": "ipython",
    "version": 3
   },
   "file_extension": ".py",
   "mimetype": "text/x-python",
   "name": "python",
   "nbconvert_exporter": "python",
   "pygments_lexer": "ipython3",
   "version": "3.11.5"
  }
 },
 "nbformat": 4,
 "nbformat_minor": 5
}
