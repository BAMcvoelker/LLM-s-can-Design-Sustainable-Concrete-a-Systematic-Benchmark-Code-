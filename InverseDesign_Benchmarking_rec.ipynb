{
 "cells": [
  {
   "cell_type": "markdown",
   "id": "afb222bf",
   "metadata": {},
   "source": [
    "## Usage Guidelines for this Jupyter Notebook\n",
    "\n",
    "### Important Precautions\n",
    "\n",
    "- **Unsupervised Execution**: Avoid running this notebook unsupervised. Despite our efforts to develop robust code, it may occasionally get stuck in an infinite loop, where each iteration can incur costs.\n",
    "- **GPT-4 Model**: Exercise caution when using the GPT-4 model due to its high expense.\n",
    "- **Cell Execution**: Execute each cell individually and sequentially to ensure settings from the previous cell are correctly passed to the subsequent one.\n",
    "- **Save Prompts**: Make sure to click the save button if you have changed the prompts. This will overwrite your previous prompts.\n",
    "\n",
    "\n",
    "### Usage Instructions\n",
    "\n",
    "- **Dependencies**: This notebook relies on `ID_Utilities` and `ID_Settings` notebooks. You may need to debug these notebooks as well.\n",
    "- **Result Analysis**: This notebook only generates results as CSV files. To analyze the results, please execute the 'Inverse Design Results' notebook.\n"
   ]
  },
  {
   "cell_type": "code",
   "execution_count": 1,
   "id": "b4465a80",
   "metadata": {
    "scrolled": false
   },
   "outputs": [
    {
     "data": {
      "application/vnd.jupyter.widget-view+json": {
       "model_id": "e8d5267e5544429ba33e5d7720930020",
       "version_major": 2,
       "version_minor": 0
      },
      "text/plain": [
       "VBox(children=(HTML(value='<h2>Settings of Inverse Design Experiments</h2>'), HBox(children=(VBox(children=(Dr…"
      ]
     },
     "metadata": {},
     "output_type": "display_data"
    }
   ],
   "source": [
    "%run utils/ID_settings_rec.ipynb\n",
    "display(settings)"
   ]
  },
  {
   "cell_type": "code",
   "execution_count": 25,
   "id": "218b3951",
   "metadata": {
    "scrolled": false
   },
   "outputs": [
    {
     "name": "stdout",
     "output_type": "stream",
     "text": [
      "SUMMARY\n",
      "The design target is to achieve a strength of  64.86370000000001 MPa within  10  development cycles.\n",
      "The Experiment is repeated  2  times using the  gpt-3.5-turbo  model and the prompt strategy:  None 1 .\n",
      "There are  3  formulations above or equal to desired_strength.\n"
     ]
    },
    {
     "data": {
      "application/vnd.jupyter.widget-view+json": {
       "model_id": "ea5565b231d14cc6877de27630a69dfc",
       "version_major": 2,
       "version_minor": 0
      },
      "text/plain": [
       "VBox(children=(HTML(value='<h2>Edit Prompts</h2>'), HBox(children=(Textarea(value=\"//// These results are impr…"
      ]
     },
     "metadata": {},
     "output_type": "display_data"
    }
   ],
   "source": [
    "%run utils/ID_Utilities_rec.ipynb\n",
    "display(Prompts)"
   ]
  },
  {
   "cell_type": "markdown",
   "id": "ae7c5214",
   "metadata": {
    "scrolled": true
   },
   "source": [
    "## Run Experiment"
   ]
  },
  {
   "cell_type": "code",
   "execution_count": null,
   "id": "a05c8ab8",
   "metadata": {
    "scrolled": false
   },
   "outputs": [
    {
     "name": "stdout",
     "output_type": "stream",
     "text": [
      "\n",
      "---\n",
      "Starting experiment 1...\n",
      "---\n",
      "\n",
      "---\n",
      "Starting iteration 1 at temp 0.0...\n",
      "--- Conversation History ---\n",
      "system: ////You are an advanced prediction model tasked to predict a concrete formulation for maximum compressive strength. Your predicted formulation will undergo laboratory testing, providing real-world performance data to enhance your future recommendations. Ensure each formulation lies exactly on the following parameter grid //Powder content in kg: 360, 370, 380, 390, 400, 410, 420, 430, 440, 450 //Water-to-cement (WC) ratio: 0.45, 0.5, 0.55, 0.6 //Materials: Fly-Ash/GGBFS at ratios of 0.7/0.3, 0.6/0.4, 0.5/0.5 //Curing methods: Ambient curing/Heat curing ////Leverage laboratory validations to improve your predictions. It is very important that you adhere to this format in your answer without any additional details or context: 'The formulation is Powderkg = {your estimate}, wc = {your estimate}, materials = {your estimate}, curing = {your estimate}'\n",
      "\n",
      "#### ['The formulation is Powderkg = 400, wc = 0.45, materials = 0.7/0.3, curing = Ambient curing', '', 'The formulation is Powderkg = 430, wc = 0.5, materials = 0.6/0.4, curing = Heat curing', '', 'The formulation is Powderkg = 450, wc = 0.6, materials = 0.5/0.5, curing = Ambient curing']\n",
      "Extracted Formulations: ['Powderkg = 400, wc = 0.45, materials = 0.7/0.3, curing = Ambient', 'Powderkg = 430, wc = 0.5, materials = 0.6/0.4, curing = Heat', 'Powderkg = 450, wc = 0.6, materials = 0.5/0.5, curing = Ambient']\n",
      "Forward Prompt:  [] You are a powerful concrete strength prediction model. You can take into account design rules and the outcome of previous lab validation to predict the compressive strength of untested novel formulations. Answer in this exact format with a single number only 'The Predicted Strength is {your Answer} MPa.'\n",
      " Given these examples, what is the compressive strength of Powderkg = 400, wc = 0.45, materials = 0.7/0.3, curing = Ambient?\n",
      "Predicted Strength for Powderkg = 400, wc = 0.45, materials = 0.7/0.3, curing = Ambient: 45.0 MPa\n",
      "Forward Prompt:  [] You are a powerful concrete strength prediction model. You can take into account design rules and the outcome of previous lab validation to predict the compressive strength of untested novel formulations. Answer in this exact format with a single number only 'The Predicted Strength is {your Answer} MPa.'\n",
      " Given these examples, what is the compressive strength of Powderkg = 430, wc = 0.5, materials = 0.6/0.4, curing = Heat?\n",
      "Predicted Strength for Powderkg = 430, wc = 0.5, materials = 0.6/0.4, curing = Heat: 55.0 MPa\n",
      "Forward Prompt:  [] You are a powerful concrete strength prediction model. You can take into account design rules and the outcome of previous lab validation to predict the compressive strength of untested novel formulations. Answer in this exact format with a single number only 'The Predicted Strength is {your Answer} MPa.'\n",
      " Given these examples, what is the compressive strength of Powderkg = 450, wc = 0.6, materials = 0.5/0.5, curing = Ambient?\n",
      "Predicted Strength for Powderkg = 450, wc = 0.6, materials = 0.5/0.5, curing = Ambient: 55.0 MPa\n",
      "final response Powderkg = 430, wc = 0.5, materials = 0.6/0.4, curing = Heat\n",
      "Model Response:  Powderkg = 430, wc = 0.5, materials = 0.6/0.4, curing = Heat\n",
      "The suggested formulation achieved a strength of  61.95  MPa.\n",
      "\n",
      "---\n",
      "Starting iteration 2 at temp 0.0...\n",
      "--- Conversation History ---\n",
      "system: ////You are an advanced prediction model tasked to predict a concrete formulation for maximum compressive strength. Your predicted formulation will undergo laboratory testing, providing real-world performance data to enhance your future recommendations. Ensure each formulation lies exactly on the following parameter grid //Powder content in kg: 360, 370, 380, 390, 400, 410, 420, 430, 440, 450 //Water-to-cement (WC) ratio: 0.45, 0.5, 0.55, 0.6 //Materials: Fly-Ash/GGBFS at ratios of 0.7/0.3, 0.6/0.4, 0.5/0.5 //Curing methods: Ambient curing/Heat curing ////Leverage laboratory validations to improve your predictions. It is very important that you adhere to this format in your answer without any additional details or context: 'The formulation is Powderkg = {your estimate}, wc = {your estimate}, materials = {your estimate}, curing = {your estimate}'\n",
      "\n",
      "assistant: Previously, we have tested these formulations with the following result:\n",
      "Powderkg = 430, wc = 0.5, materials = 0.6/0.4, curing = Heat resulted in a strength of 61.95 MPa.\n",
      "user: //// These results are impressive! Nevertheless, we must strive for excellence and push the boundaries! Provide me with a superior formulation! It might require a bold move to uncover the optimal solution. Ensure that your forthcoming suggestion is distinctive and hasn't been validated previously!\n",
      "#### ['Formulation 1: Powderkg = 450, wc = 0.45, materials = 0.7/0.3, curing = Heat', 'Formulation 2: Powderkg = 380, wc = 0.6, materials = 0.5/0.5, curing = Ambient', 'Formulation 3: Powderkg = 410, wc = 0.5, materials = 0.6/0.4, curing = Ambient']\n",
      "Extracted Formulations: ['Powderkg = 450, wc = 0.45, materials = 0.7/0.3, curing = Heat', 'Powderkg = 380, wc = 0.6, materials = 0.5/0.5, curing = Ambient', 'Powderkg = 410, wc = 0.5, materials = 0.6/0.4, curing = Ambient']\n",
      "Forward Prompt:  ['Powderkg = 430, wc = 0.5, materials = 0.6/0.4, curing = Heat resulted in a strength of 61.95 MPa.'] You are a powerful concrete strength prediction model. You can take into account design rules and the outcome of previous lab validation to predict the compressive strength of untested novel formulations. Answer in this exact format with a single number only 'The Predicted Strength is {your Answer} MPa.'\n",
      " Given these examples, what is the compressive strength of Powderkg = 450, wc = 0.45, materials = 0.7/0.3, curing = Heat?\n",
      "Predicted Strength for Powderkg = 450, wc = 0.45, materials = 0.7/0.3, curing = Heat: 62.05 MPa\n",
      "Forward Prompt:  ['Powderkg = 430, wc = 0.5, materials = 0.6/0.4, curing = Heat resulted in a strength of 61.95 MPa.'] You are a powerful concrete strength prediction model. You can take into account design rules and the outcome of previous lab validation to predict the compressive strength of untested novel formulations. Answer in this exact format with a single number only 'The Predicted Strength is {your Answer} MPa.'\n",
      " Given these examples, what is the compressive strength of Powderkg = 380, wc = 0.6, materials = 0.5/0.5, curing = Ambient?\n",
      "Predicted Strength for Powderkg = 380, wc = 0.6, materials = 0.5/0.5, curing = Ambient: 55.75 MPa\n",
      "Forward Prompt:  ['Powderkg = 430, wc = 0.5, materials = 0.6/0.4, curing = Heat resulted in a strength of 61.95 MPa.'] You are a powerful concrete strength prediction model. You can take into account design rules and the outcome of previous lab validation to predict the compressive strength of untested novel formulations. Answer in this exact format with a single number only 'The Predicted Strength is {your Answer} MPa.'\n",
      " Given these examples, what is the compressive strength of Powderkg = 410, wc = 0.5, materials = 0.6/0.4, curing = Ambient?\n",
      "Predicted Strength for Powderkg = 410, wc = 0.5, materials = 0.6/0.4, curing = Ambient: 60.25 MPa\n",
      "final response Powderkg = 450, wc = 0.45, materials = 0.7/0.3, curing = Heat\n",
      "Model Response:  Powderkg = 450, wc = 0.45, materials = 0.7/0.3, curing = Heat\n",
      "The suggested formulation achieved a strength of  38.63  MPa.\n",
      "\n",
      "---\n",
      "Starting iteration 3 at temp 0.0...\n",
      "--- Conversation History ---\n",
      "system: ////You are an advanced prediction model tasked to predict a concrete formulation for maximum compressive strength. Your predicted formulation will undergo laboratory testing, providing real-world performance data to enhance your future recommendations. Ensure each formulation lies exactly on the following parameter grid //Powder content in kg: 360, 370, 380, 390, 400, 410, 420, 430, 440, 450 //Water-to-cement (WC) ratio: 0.45, 0.5, 0.55, 0.6 //Materials: Fly-Ash/GGBFS at ratios of 0.7/0.3, 0.6/0.4, 0.5/0.5 //Curing methods: Ambient curing/Heat curing ////Leverage laboratory validations to improve your predictions. It is very important that you adhere to this format in your answer without any additional details or context: 'The formulation is Powderkg = {your estimate}, wc = {your estimate}, materials = {your estimate}, curing = {your estimate}'\n",
      "\n",
      "assistant: Previously, we have tested these formulations with the following result:\n",
      "Powderkg = 430, wc = 0.5, materials = 0.6/0.4, curing = Heat resulted in a strength of 61.95 MPa.\n",
      "Powderkg = 450, wc = 0.45, materials = 0.7/0.3, curing = Heat resulted in a strength of 38.63 MPa.\n",
      "user: //// These results are impressive! Nevertheless, we must strive for excellence and push the boundaries! Provide me with a superior formulation! It might require a bold move to uncover the optimal solution. Ensure that your forthcoming suggestion is distinctive and hasn't been validated previously!\n"
     ]
    },
    {
     "name": "stdout",
     "output_type": "stream",
     "text": [
      "#### ['Formulation 1: ', 'Powderkg = 440, wc = 0.55, materials = 0.5/0.5, curing = Ambient', '', 'Formulation 2: ', 'Powderkg = 400, wc = 0.6, materials = 0.6/0.4, curing = Heat', '', 'Formulation 3: ', 'Powderkg = 410, wc = 0.5, materials = 0.7/0.3, curing = Ambient']\n",
      "Extracted Formulations: ['Powderkg = 440, wc = 0.55, materials = 0.5/0.5, curing = Ambient', 'Powderkg = 400, wc = 0.6, materials = 0.6/0.4, curing = Heat', 'Powderkg = 410, wc = 0.5, materials = 0.7/0.3, curing = Ambient']\n",
      "Forward Prompt:  ['Powderkg = 430, wc = 0.5, materials = 0.6/0.4, curing = Heat resulted in a strength of 61.95 MPa.', 'Powderkg = 450, wc = 0.45, materials = 0.7/0.3, curing = Heat resulted in a strength of 38.63 MPa.'] You are a powerful concrete strength prediction model. You can take into account design rules and the outcome of previous lab validation to predict the compressive strength of untested novel formulations. Answer in this exact format with a single number only 'The Predicted Strength is {your Answer} MPa.'\n",
      " Given these examples, what is the compressive strength of Powderkg = 440, wc = 0.55, materials = 0.5/0.5, curing = Ambient?\n",
      "Predicted Strength for Powderkg = 440, wc = 0.55, materials = 0.5/0.5, curing = Ambient: 45.29 MPa\n",
      "Forward Prompt:  ['Powderkg = 430, wc = 0.5, materials = 0.6/0.4, curing = Heat resulted in a strength of 61.95 MPa.', 'Powderkg = 450, wc = 0.45, materials = 0.7/0.3, curing = Heat resulted in a strength of 38.63 MPa.'] You are a powerful concrete strength prediction model. You can take into account design rules and the outcome of previous lab validation to predict the compressive strength of untested novel formulations. Answer in this exact format with a single number only 'The Predicted Strength is {your Answer} MPa.'\n",
      " Given these examples, what is the compressive strength of Powderkg = 400, wc = 0.6, materials = 0.6/0.4, curing = Heat?\n",
      "Predicted Strength for Powderkg = 400, wc = 0.6, materials = 0.6/0.4, curing = Heat: 55.29 MPa\n",
      "Forward Prompt:  ['Powderkg = 430, wc = 0.5, materials = 0.6/0.4, curing = Heat resulted in a strength of 61.95 MPa.', 'Powderkg = 450, wc = 0.45, materials = 0.7/0.3, curing = Heat resulted in a strength of 38.63 MPa.'] You are a powerful concrete strength prediction model. You can take into account design rules and the outcome of previous lab validation to predict the compressive strength of untested novel formulations. Answer in this exact format with a single number only 'The Predicted Strength is {your Answer} MPa.'\n",
      " Given these examples, what is the compressive strength of Powderkg = 410, wc = 0.5, materials = 0.7/0.3, curing = Ambient?\n"
     ]
    }
   ],
   "source": [
    "%run utils/Run_experiments_rec.ipynb"
   ]
  },
  {
   "cell_type": "markdown",
   "id": "b99a2003",
   "metadata": {
    "scrolled": false
   },
   "source": [
    "##  Run Baseline Methods (BO,RF, RP) 30 times"
   ]
  },
  {
   "cell_type": "code",
   "execution_count": null,
   "id": "4fb65dd9",
   "metadata": {
    "scrolled": false
   },
   "outputs": [],
   "source": [
    "# %run utils/Baselines.ipynb"
   ]
  },
  {
   "cell_type": "markdown",
   "id": "be4d6fe7",
   "metadata": {},
   "source": []
  },
  {
   "cell_type": "markdown",
   "id": "7c960b5c",
   "metadata": {},
   "source": []
  }
 ],
 "metadata": {
  "kernelspec": {
   "display_name": "Python 3",
   "language": "python",
   "name": "python3"
  },
  "language_info": {
   "codemirror_mode": {
    "name": "ipython",
    "version": 3
   },
   "file_extension": ".py",
   "mimetype": "text/x-python",
   "name": "python",
   "nbconvert_exporter": "python",
   "pygments_lexer": "ipython3",
   "version": "3.9.12"
  }
 },
 "nbformat": 4,
 "nbformat_minor": 5
}
