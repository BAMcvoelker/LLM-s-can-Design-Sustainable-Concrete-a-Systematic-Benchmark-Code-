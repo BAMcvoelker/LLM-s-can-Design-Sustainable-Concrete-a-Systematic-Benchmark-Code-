{
 "cells": [
  {
   "cell_type": "markdown",
   "id": "afb222bf",
   "metadata": {},
   "source": [
    "## Usage Guidelines for this Jupyter Notebook\n",
    "\n",
    "### Important Precautions\n",
    "\n",
    "- **Unsupervised Execution**: Avoid running this notebook unsupervised. Despite our efforts to develop robust code, it may occasionally get stuck in an infinite loop, where each iteration can incur costs.\n",
    "- **GPT-4 Model**: Exercise caution when using the GPT-4 model due to its high expense.\n",
    "- **Cell Execution**: Execute each cell individually and sequentially to ensure settings from the previous cell are correctly passed to the subsequent one.\n",
    "- **Save Prompts**: Make sure to click the save button if you have changed the prompts. This will overwrite your previous prompts.\n",
    "\n",
    "\n",
    "### Usage Instructions\n",
    "\n",
    "- **Dependencies**: This notebook relies on `ID_Utilities` and `ID_Settings` notebooks. You may need to debug these notebooks as well.\n",
    "- **Result Analysis**: This notebook only generates results as CSV files. To analyze the results, please execute the 'Inverse Design Results' notebook.\n"
   ]
  },
  {
   "cell_type": "code",
   "execution_count": 30,
   "id": "b4465a80",
   "metadata": {
    "scrolled": false
   },
   "outputs": [
    {
     "data": {
      "application/vnd.jupyter.widget-view+json": {
       "model_id": "9f0c690e020a4951895e0f64215c1f05",
       "version_major": 2,
       "version_minor": 0
      },
      "text/plain": [
       "VBox(children=(HTML(value='<h2>Settings of Inverse Design Experiments</h2>'), HBox(children=(VBox(children=(Dr…"
      ]
     },
     "metadata": {},
     "output_type": "display_data"
    }
   ],
   "source": [
    "%run utils/ID_settings_rec.ipynb\n",
    "display(settings)"
   ]
  },
  {
   "cell_type": "code",
   "execution_count": 33,
   "id": "218b3951",
   "metadata": {
    "scrolled": false
   },
   "outputs": [
    {
     "name": "stdout",
     "output_type": "stream",
     "text": [
      "SUMMARY\n",
      "The design target is to achieve a strength of  64.86370000000001 MPa within  10  development cycles.\n",
      "The Experiment is repeated  10  times using the  gpt-3.5-turbo  model and the prompt strategy:  Specific 1 .\n",
      "There are  3  formulations above or equal to desired_strength.\n"
     ]
    },
    {
     "data": {
      "application/vnd.jupyter.widget-view+json": {
       "model_id": "1201b315a0194ac186c59734447c4d09",
       "version_major": 2,
       "version_minor": 0
      },
      "text/plain": [
       "VBox(children=(HTML(value='<h2>Edit Prompts</h2>'), HBox(children=(Textarea(value='//// These are great Result…"
      ]
     },
     "metadata": {},
     "output_type": "display_data"
    }
   ],
   "source": [
    "%run utils/ID_Utilities_rec.ipynb\n",
    "display(Prompts)"
   ]
  },
  {
   "cell_type": "markdown",
   "id": "ae7c5214",
   "metadata": {
    "scrolled": true
   },
   "source": [
    "## Run Experiment"
   ]
  },
  {
   "cell_type": "code",
   "execution_count": null,
   "id": "a05c8ab8",
   "metadata": {
    "scrolled": false
   },
   "outputs": [
    {
     "name": "stdout",
     "output_type": "stream",
     "text": [
      "\n",
      "---\n",
      "Starting experiment 1...\n",
      "---\n",
      "\n",
      "---\n",
      "Starting iteration 1 at temp 0.0...\n",
      "final response The formulation is Powderkg = 420, wc = 0.5, materials = 0.5/0.5, curing = heat curing\n",
      "Model Response:  The formulation is Powderkg = 420, wc = 0.5, materials = 0.5/0.5, curing = heat curing\n",
      "The suggested formulation achieved a strength of  64.28  MPa.\n",
      "\n",
      "---\n",
      "Starting iteration 2 at temp 0.0...\n",
      "Service unavailable error. Retrying after a delay...\n",
      "final response The formulation is Powderkg = 450, wc = 0.5, materials = 0.5/0.5, curing = heat curing\n",
      "Model Response:  The formulation is Powderkg = 450, wc = 0.5, materials = 0.5/0.5, curing = heat curing\n",
      "The suggested formulation achieved a strength of  61.9  MPa.\n",
      "\n",
      "---\n",
      "Starting iteration 3 at temp 0.0...\n",
      "final response The formulation is Powderkg = 440, wc = 0.5, materials = 0.5/0.5, curing = heat curing\n",
      "Model Response:  The formulation is Powderkg = 440, wc = 0.5, materials = 0.5/0.5, curing = heat curing\n",
      "The suggested formulation achieved a strength of  62.65  MPa.\n",
      "\n",
      "---\n",
      "Starting iteration 4 at temp 0.0...\n",
      "final response The formulation is Powderkg = 410, wc = 0.45, materials = 0.6/0.4, curing = heat curing.\n",
      "Model Response:  The formulation is Powderkg = 410, wc = 0.45, materials = 0.6/0.4, curing = heat curing.\n",
      "The suggested formulation achieved a strength of  58.29  MPa.\n",
      "\n",
      "---\n",
      "Starting iteration 5 at temp 0.0...\n",
      "final response The formulation is Powderkg = 430, wc = 0.55, materials = 0.7/0.3, curing = heat curing.\n",
      "Model Response:  The formulation is Powderkg = 430, wc = 0.55, materials = 0.7/0.3, curing = heat curing.\n",
      "The suggested formulation achieved a strength of  32.59  MPa.\n",
      "\n",
      "---\n",
      "Starting iteration 6 at temp 0.0...\n",
      "final response The formulation is Powderkg = 400, wc = 0.5, materials = 0.7/0.3, curing = heat curing.\n",
      "Model Response:  The formulation is Powderkg = 400, wc = 0.5, materials = 0.7/0.3, curing = heat curing.\n",
      "The suggested formulation achieved a strength of  43.19  MPa.\n",
      "\n",
      "---\n",
      "Starting iteration 7 at temp 0.0...\n",
      "final response The formulation is Powderkg = 430, wc = 0.5, materials = 0.5/0.5, curing = heat curing.\n",
      "Model Response:  The formulation is Powderkg = 430, wc = 0.5, materials = 0.5/0.5, curing = heat curing.\n",
      "The suggested formulation achieved a strength of  63.47  MPa.\n",
      "\n",
      "---\n",
      "Starting iteration 8 at temp 0.0...\n",
      "No valid predictions were made. Defaulting to the first formulation.\n",
      "Model Response:  Unable to make valid predictions.\n",
      "Iteration 8: Assistant's response did not contain a valid solution. Trying again.\n",
      "No valid predictions were made. Defaulting to the first formulation.\n",
      "Model Response:  Unable to make valid predictions.\n",
      "Iteration 8: Assistant's response did not contain a valid solution. Trying again.\n",
      "No valid predictions were made. Defaulting to the first formulation.\n",
      "Model Response:  Unable to make valid predictions.\n",
      "Iteration 8: Assistant's response did not contain a valid solution. Trying again.\n",
      "No valid predictions were made. Defaulting to the first formulation.\n",
      "Model Response:  Unable to make valid predictions.\n",
      "Iteration 8: Assistant's response did not contain a valid solution. Trying again.\n",
      "final response The formulation is Powderkg = 430, wc = 0.6, materials = 0.5/0.5, curing = heat curing.\n",
      "Model Response:  The formulation is Powderkg = 430, wc = 0.6, materials = 0.5/0.5, curing = heat curing.\n",
      "The suggested formulation achieved a strength of  50.93  MPa.\n",
      "\n",
      "---\n",
      "Starting iteration 9 at temp 0.0...\n",
      "final response The formulation is Powderkg = 420, wc = 0.45, materials = 0.6/0.4, curing = heat curing.\n",
      "Model Response:  The formulation is Powderkg = 420, wc = 0.45, materials = 0.6/0.4, curing = heat curing.\n",
      "The suggested formulation achieved a strength of  58.8  MPa.\n",
      "\n",
      "---\n",
      "Starting iteration 10 at temp 0.0...\n",
      "final response The formulation is Powderkg = 450, wc = 0.45, materials = 0.7/0.3, curing = heat curing.\n",
      "Model Response:  The formulation is Powderkg = 450, wc = 0.45, materials = 0.7/0.3, curing = heat curing.\n",
      "The suggested formulation achieved a strength of  38.63  MPa.\n",
      "Data for experiment 1 and temp 0.0 successfully saved to Results/ID/gpt-3.5-turbo_Specific 1_prompt_experiment_1_temp_0.0_target_99_%_Dev_Budget_10_recursive_1_1696611051.csv.\n",
      "\n",
      "---\n",
      "Starting experiment 2...\n",
      "---\n",
      "\n",
      "---\n",
      "Starting iteration 1 at temp 0.0...\n",
      "final response The formulation is Powderkg = 420, wc = 0.5, materials = 0.5/0.5, curing = heat curing\n",
      "Model Response:  The formulation is Powderkg = 420, wc = 0.5, materials = 0.5/0.5, curing = heat curing\n",
      "The suggested formulation achieved a strength of  64.28  MPa.\n",
      "\n",
      "---\n",
      "Starting iteration 2 at temp 0.0...\n",
      "final response The formulation is Powderkg = 450, wc = 0.5, materials = 0.5/0.5, curing = heat curing\n",
      "Model Response:  The formulation is Powderkg = 450, wc = 0.5, materials = 0.5/0.5, curing = heat curing\n",
      "The suggested formulation achieved a strength of  61.9  MPa.\n",
      "\n",
      "---\n",
      "Starting iteration 3 at temp 0.0...\n",
      "final response The formulation is Powderkg = 440, wc = 0.5, materials = 0.5/0.5, curing = heat curing\n",
      "Model Response:  The formulation is Powderkg = 440, wc = 0.5, materials = 0.5/0.5, curing = heat curing\n",
      "The suggested formulation achieved a strength of  62.65  MPa.\n",
      "\n",
      "---\n",
      "Starting iteration 4 at temp 0.0...\n",
      "final response The formulation is Powderkg = 430, wc = 0.5, materials = 0.5/0.5, curing = heat curing.\n",
      "Model Response:  The formulation is Powderkg = 430, wc = 0.5, materials = 0.5/0.5, curing = heat curing.\n",
      "The suggested formulation achieved a strength of  63.47  MPa.\n",
      "\n",
      "---\n",
      "Starting iteration 5 at temp 0.0...\n",
      "final response The formulation is Powderkg = 420, wc = 0.5, materials = 0.5/0.5, curing = heat curing.\n",
      "Model Response:  The formulation is Powderkg = 420, wc = 0.5, materials = 0.5/0.5, curing = heat curing.\n",
      "The suggested formulation achieved a strength of  64.28  MPa.\n",
      "\n",
      "---\n",
      "Starting iteration 6 at temp 0.0...\n",
      "final response The formulation is Powderkg = 410, wc = 0.45, materials = 0.6/0.4, curing = heat curing.\n",
      "Model Response:  The formulation is Powderkg = 410, wc = 0.45, materials = 0.6/0.4, curing = heat curing.\n",
      "The suggested formulation achieved a strength of  58.29  MPa.\n",
      "\n",
      "---\n",
      "Starting iteration 7 at temp 0.0...\n",
      "final response The formulation is Powderkg = 410, wc = 0.5, materials = 0.7/0.3, curing = heat curing.\n",
      "Model Response:  The formulation is Powderkg = 410, wc = 0.5, materials = 0.7/0.3, curing = heat curing.\n",
      "The suggested formulation achieved a strength of  43.35  MPa.\n",
      "\n",
      "---\n",
      "Starting iteration 8 at temp 0.0...\n",
      "No valid predictions were made. Defaulting to the first formulation.\n",
      "Model Response:  Unable to make valid predictions.\n",
      "Iteration 8: Assistant's response did not contain a valid solution. Trying again.\n",
      "final response The formulation is Powderkg = 390, wc = 0.55, materials = 0.6/0.4, curing = heat curing.\n",
      "Model Response:  The formulation is Powderkg = 390, wc = 0.55, materials = 0.6/0.4, curing = heat curing.\n",
      "The suggested formulation achieved a strength of  56.19  MPa.\n",
      "\n",
      "---\n",
      "Starting iteration 9 at temp 0.0...\n",
      "final response The formulation is Powderkg = 380, wc = 0.5, materials = 0.5/0.5, curing = heat curing.\n",
      "Model Response:  The formulation is Powderkg = 380, wc = 0.5, materials = 0.5/0.5, curing = heat curing.\n",
      "The suggested formulation achieved a strength of  64.93  MPa.\n",
      "\n",
      "Desired compressive strength of 64.86370000000001 MPa achieved after 9 iterations. The solution is {'powderkg': '380', 'wc': '0.5', 'materials': '0.5/0.5', 'curing': 'Heat curing'}.\n",
      "Data for experiment 2 and temp 0.0 successfully saved to Results/ID/gpt-3.5-turbo_Specific 1_prompt_experiment_2_temp_0.0_target_99_%_Dev_Budget_10_recursive_1_1696611107.csv.\n",
      "\n",
      "---\n",
      "Starting experiment 3...\n",
      "---\n",
      "\n",
      "---\n",
      "Starting iteration 1 at temp 0.0...\n",
      "Could not convert predicted strength for The formulation is Powderkg = 400, wc = 0.5, materials = 0.5/0.5, curing = ambient curing to float. Skipping this formulation.\n",
      "final response The formulation is Powderkg = 420, wc = 0.5, materials = 0.5/0.5, curing = heat curing\n",
      "Model Response:  The formulation is Powderkg = 420, wc = 0.5, materials = 0.5/0.5, curing = heat curing\n",
      "The suggested formulation achieved a strength of  64.28  MPa.\n",
      "\n",
      "---\n",
      "Starting iteration 2 at temp 0.0...\n",
      "final response The formulation is Powderkg = 450, wc = 0.5, materials = 0.5/0.5, curing = heat curing\n",
      "Model Response:  The formulation is Powderkg = 450, wc = 0.5, materials = 0.5/0.5, curing = heat curing\n",
      "The suggested formulation achieved a strength of  61.9  MPa.\n",
      "\n",
      "---\n",
      "Starting iteration 3 at temp 0.0...\n"
     ]
    },
    {
     "name": "stdout",
     "output_type": "stream",
     "text": [
      "final response The formulation is Powderkg = 440, wc = 0.5, materials = 0.5/0.5, curing = heat curing\n",
      "Model Response:  The formulation is Powderkg = 440, wc = 0.5, materials = 0.5/0.5, curing = heat curing\n",
      "The suggested formulation achieved a strength of  62.65  MPa.\n",
      "\n",
      "---\n",
      "Starting iteration 4 at temp 0.0...\n",
      "final response The formulation is Powderkg = 430, wc = 0.5, materials = 0.5/0.5, curing = heat curing.\n",
      "Model Response:  The formulation is Powderkg = 430, wc = 0.5, materials = 0.5/0.5, curing = heat curing.\n",
      "The suggested formulation achieved a strength of  63.47  MPa.\n",
      "\n",
      "---\n",
      "Starting iteration 5 at temp 0.0...\n",
      "final response The formulation is Powderkg = 430, wc = 0.55, materials = 0.5/0.5, curing = heat curing.\n",
      "Model Response:  The formulation is Powderkg = 430, wc = 0.55, materials = 0.5/0.5, curing = heat curing.\n",
      "The suggested formulation achieved a strength of  51.92  MPa.\n",
      "\n",
      "---\n",
      "Starting iteration 6 at temp 0.0...\n",
      "final response The formulation is Powderkg = 410, wc = 0.45, materials = 0.7/0.3, curing = heat curing.\n",
      "Model Response:  The formulation is Powderkg = 410, wc = 0.45, materials = 0.7/0.3, curing = heat curing.\n",
      "The suggested formulation achieved a strength of  40.59  MPa.\n",
      "\n",
      "---\n",
      "Starting iteration 7 at temp 0.0...\n",
      "final response The formulation is Powderkg = 400, wc = 0.45, materials = 0.6/0.4, curing = heat curing.\n",
      "Model Response:  The formulation is Powderkg = 400, wc = 0.45, materials = 0.6/0.4, curing = heat curing.\n",
      "The suggested formulation achieved a strength of  57.75  MPa.\n",
      "\n",
      "---\n",
      "Starting iteration 8 at temp 0.0...\n",
      "final response The formulation is Powderkg = 450, wc = 0.45, materials = 0.7/0.3, curing = heat curing.\n",
      "Model Response:  The formulation is Powderkg = 450, wc = 0.45, materials = 0.7/0.3, curing = heat curing.\n",
      "The suggested formulation achieved a strength of  38.63  MPa.\n",
      "\n",
      "---\n",
      "Starting iteration 9 at temp 0.0...\n",
      "final response The formulation is Powderkg = 420, wc = 0.5, materials = 0.6/0.4, curing = heat curing.\n",
      "Model Response:  The formulation is Powderkg = 420, wc = 0.5, materials = 0.6/0.4, curing = heat curing.\n",
      "The suggested formulation achieved a strength of  62.29  MPa.\n",
      "\n",
      "---\n",
      "Starting iteration 10 at temp 0.0...\n",
      "No valid predictions were made. Defaulting to the first formulation.\n",
      "Model Response:  Unable to make valid predictions.\n",
      "Iteration 10: Assistant's response did not contain a valid solution. Trying again.\n",
      "final response The formulation is Powderkg = 420, wc = 0.55, materials = 0.6/0.4, curing = heat curing.\n",
      "Model Response:  The formulation is Powderkg = 420, wc = 0.55, materials = 0.6/0.4, curing = heat curing.\n",
      "The suggested formulation achieved a strength of  58.93  MPa.\n",
      "Data for experiment 3 and temp 0.0 successfully saved to Results/ID/gpt-3.5-turbo_Specific 1_prompt_experiment_3_temp_0.0_target_99_%_Dev_Budget_10_recursive_1_1696611167.csv.\n",
      "\n",
      "---\n",
      "Starting experiment 4...\n",
      "---\n",
      "\n",
      "---\n",
      "Starting iteration 1 at temp 0.0...\n",
      "final response The formulation is Powderkg = 420, wc = 0.5, materials = 0.5/0.5, curing = heat curing\n",
      "Model Response:  The formulation is Powderkg = 420, wc = 0.5, materials = 0.5/0.5, curing = heat curing\n",
      "The suggested formulation achieved a strength of  64.28  MPa.\n",
      "\n",
      "---\n",
      "Starting iteration 2 at temp 0.0...\n",
      "final response The formulation is Powderkg = 450, wc = 0.5, materials = 0.5/0.5, curing = heat curing\n",
      "Model Response:  The formulation is Powderkg = 450, wc = 0.5, materials = 0.5/0.5, curing = heat curing\n",
      "The suggested formulation achieved a strength of  61.9  MPa.\n",
      "\n",
      "---\n",
      "Starting iteration 3 at temp 0.0...\n",
      "final response The formulation is Powderkg = 440, wc = 0.5, materials = 0.5/0.5, curing = heat curing\n",
      "Model Response:  The formulation is Powderkg = 440, wc = 0.5, materials = 0.5/0.5, curing = heat curing\n",
      "The suggested formulation achieved a strength of  62.65  MPa.\n",
      "\n",
      "---\n",
      "Starting iteration 4 at temp 0.0...\n",
      "final response The formulation is Powderkg = 430, wc = 0.5, materials = 0.5/0.5, curing = heat curing.\n",
      "Model Response:  The formulation is Powderkg = 430, wc = 0.5, materials = 0.5/0.5, curing = heat curing.\n",
      "The suggested formulation achieved a strength of  63.47  MPa.\n",
      "\n",
      "---\n",
      "Starting iteration 5 at temp 0.0...\n"
     ]
    }
   ],
   "source": [
    "%run utils/Run_experiments_rec.ipynb"
   ]
  },
  {
   "cell_type": "markdown",
   "id": "b99a2003",
   "metadata": {
    "scrolled": false
   },
   "source": [
    "##  Run Baseline Methods (BO,RF, RP) 30 times"
   ]
  },
  {
   "cell_type": "code",
   "execution_count": null,
   "id": "4fb65dd9",
   "metadata": {
    "scrolled": false
   },
   "outputs": [],
   "source": [
    "# %run utils/Baselines.ipynb"
   ]
  },
  {
   "cell_type": "markdown",
   "id": "be4d6fe7",
   "metadata": {},
   "source": []
  },
  {
   "cell_type": "markdown",
   "id": "7c960b5c",
   "metadata": {},
   "source": []
  }
 ],
 "metadata": {
  "kernelspec": {
   "display_name": "Python 3",
   "language": "python",
   "name": "python3"
  },
  "language_info": {
   "codemirror_mode": {
    "name": "ipython",
    "version": 3
   },
   "file_extension": ".py",
   "mimetype": "text/x-python",
   "name": "python",
   "nbconvert_exporter": "python",
   "pygments_lexer": "ipython3",
   "version": "3.9.12"
  }
 },
 "nbformat": 4,
 "nbformat_minor": 5
}
