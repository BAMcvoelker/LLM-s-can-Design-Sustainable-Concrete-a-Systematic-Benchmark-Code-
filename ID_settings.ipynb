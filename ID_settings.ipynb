{
 "cells": [
  {
   "cell_type": "code",
   "execution_count": 2,
   "id": "41fef684",
   "metadata": {},
   "outputs": [
    {
     "ename": "NameError",
     "evalue": "name 'widgets' is not defined",
     "output_type": "error",
     "traceback": [
      "\u001b[0;31m---------------------------------------------------------------------------\u001b[0m",
      "\u001b[0;31mNameError\u001b[0m                                 Traceback (most recent call last)",
      "\u001b[0;32m<ipython-input-2-e4ba5dca0699>\u001b[0m in \u001b[0;36m<module>\u001b[0;34m\u001b[0m\n\u001b[1;32m      2\u001b[0m \u001b[0;34m\u001b[0m\u001b[0m\n\u001b[1;32m      3\u001b[0m \u001b[0;31m# Create the 'Model' dropdown menu with options\u001b[0m\u001b[0;34m\u001b[0m\u001b[0;34m\u001b[0m\u001b[0m\n\u001b[0;32m----> 4\u001b[0;31m model_dropdown = widgets.Dropdown(\n\u001b[0m\u001b[1;32m      5\u001b[0m     \u001b[0moptions\u001b[0m\u001b[0;34m=\u001b[0m\u001b[0;34m[\u001b[0m\u001b[0;34m'gpt-3.5-turbo'\u001b[0m\u001b[0;34m,\u001b[0m \u001b[0;34m'GPT4'\u001b[0m\u001b[0;34m]\u001b[0m\u001b[0;34m,\u001b[0m\u001b[0;34m\u001b[0m\u001b[0;34m\u001b[0m\u001b[0m\n\u001b[1;32m      6\u001b[0m     \u001b[0mvalue\u001b[0m\u001b[0;34m=\u001b[0m\u001b[0;34m'gpt-3.5-turbo'\u001b[0m\u001b[0;34m,\u001b[0m\u001b[0;34m\u001b[0m\u001b[0;34m\u001b[0m\u001b[0m\n",
      "\u001b[0;31mNameError\u001b[0m: name 'widgets' is not defined"
     ]
    }
   ],
   "source": [
    "#ID_settings\n",
    "\n",
    "# Create the 'Model' dropdown menu with options\n",
    "model_dropdown = widgets.Dropdown(\n",
    "    options=['gpt-3.5-turbo', 'GPT4'],\n",
    "    value='gpt-3.5-turbo',\n",
    "    description='Model:'\n",
    ")\n",
    "\n",
    "# Create the 'prompt' dropdown menu with options\n",
    "prompt_dropdown = widgets.Dropdown(\n",
    "    options=['None', 'Generic', 'Specific'],\n",
    "    value='None',\n",
    "    description='Prompt Strategy:'\n",
    ")\n",
    "\n",
    "# Create the 'Model' dropdown menu with options\n",
    "model_dropdown = widgets.Dropdown(\n",
    "    options=['gpt-3.5-turbo', 'GPT4'],\n",
    "    value='gpt-3.5-turbo',\n",
    "    description='Model:'\n",
    ")\n",
    "\n",
    "# Create the 'prompt' dropdown menu with options\n",
    "prompt_dropdown = widgets.Dropdown(\n",
    "    options=['None', 'Generic', 'Specific'],\n",
    "    value='None',\n",
    "    description='Prompt:'\n",
    ")\n",
    "\n",
    "# Create NumberBoxes for 'Number of Development' and 'Number of Experiments'\n",
    "num_development = widgets.IntText(\n",
    "    value=10,\n",
    "    description='Dev. Cycle:',\n",
    "    layout={'width': 'auto'}\n",
    ")\n",
    "\n",
    "num_experiments = widgets.IntText(\n",
    "    value=10,\n",
    "    description='Experiments:',\n",
    "    layout={'width': 'auto'}\n",
    ")\n",
    "\n",
    "# Create a TextBox for 'Model-Temperatures'\n",
    "model_temperatures = widgets.Text(\n",
    "    value='0, 0.35, 0.7, 1',\n",
    "    description='Temperatures:',\n",
    "    layout={'width': 'auto'}\n",
    ")\n",
    "\n",
    "# Create the FloatSlider for 'Target' as a percentage\n",
    "targ_quant = widgets.FloatSlider(\n",
    "    value=100,\n",
    "    min=50,\n",
    "    max=100,\n",
    "    step=1,\n",
    "    description='Target:',\n",
    "    layout={'width': 'auto'}\n",
    ")\n",
    "conversation_dropdown = widgets.Dropdown(\n",
    "    options=['Complete', 'Exceptions+Results'],\n",
    "    value='Exceptions+Results',\n",
    "    description='Display Conversation:'\n",
    ")\n",
    "# Arrange the widgets in two columns\n",
    "left_column = widgets.VBox([model_dropdown, num_development, num_experiments, conversation_dropdown])\n",
    "right_column = widgets.VBox([prompt_dropdown, model_temperatures,targ_quant])\n",
    "\n",
    "# Create an overall layout with two columns\n",
    "main_layout = widgets.HBox([left_column, right_column])\n",
    "title = widgets.HTML(\"<h2>Settings of Inverse Design Experiments</h2>\")\n",
    "settings = widgets.VBox([title, main_layout])\n"
   ]
  }
 ],
 "metadata": {
  "kernelspec": {
   "display_name": "Python 3",
   "language": "python",
   "name": "python3"
  },
  "language_info": {
   "codemirror_mode": {
    "name": "ipython",
    "version": 3
   },
   "file_extension": ".py",
   "mimetype": "text/x-python",
   "name": "python",
   "nbconvert_exporter": "python",
   "pygments_lexer": "ipython3",
   "version": "3.9.12"
  }
 },
 "nbformat": 4,
 "nbformat_minor": 5
}
