{
 "cells": [
  {
   "cell_type": "code",
   "execution_count": 7,
   "id": "9c79fa7a",
   "metadata": {},
   "outputs": [],
   "source": [
    "import pandas as pd\n",
    "import numpy as np\n",
    "import os\n",
    "import re\n",
    "from collections import defaultdict\n",
    "import matplotlib.pyplot as plt\n",
    "import ipywidgets as widgets\n",
    "from IPython.display import display\n",
    "from ipywidgets import Layout\n",
    "import collections\n"
   ]
  },
  {
   "cell_type": "code",
   "execution_count": 10,
   "id": "0681b8e4",
   "metadata": {},
   "outputs": [
    {
     "name": "stdout",
     "output_type": "stream",
     "text": [
      "('BO', 4, '99', 10)\n",
      "('RF', 4, '99', 10)\n",
      "('RP', 0, '99', 10)\n"
     ]
    }
   ],
   "source": [
    "def extract_info_baseline(filename):\n",
    "    pattern = r\"experiment_(?P<experiment>\\d+)_(?P<model>.*?)_(initialsample_(?P<initialsample>\\d+)?_)?target_(?P<target>.*?)_%_Dev_Budget_(?P<budget>\\d+)_.*\"\n",
    "    match = re.match(pattern, filename)\n",
    "    if match:\n",
    "        model = match.group('model')\n",
    "        experiment = int(match.group('experiment'))\n",
    "        initial_sample_size = int(match.group('initialsample')) if match.group('initialsample') else 0\n",
    "        target = match.group('target')\n",
    "        budget = int(match.group('budget'))\n",
    "        return model, initial_sample_size, target, budget\n",
    "\n",
    "def unique_combinations_baseline(directory):\n",
    "    unique_lists = []\n",
    "    for filename in os.listdir(directory):\n",
    "        if os.path.isfile(os.path.join(directory, filename)):\n",
    "            info = extract_info_baseline(filename)\n",
    "            if info:\n",
    "                unique_lists.append(info)\n",
    "    \n",
    "    # Sort list based on initial_sample_size (int) first, Model (str) second\n",
    "    unique_lists = list(set(unique_lists)) # Remove duplicates\n",
    "    unique_lists.sort(key=lambda x: (x[2], x[0])) # Sort\n",
    "    \n",
    "    return unique_lists\n",
    "\n",
    "directories = ['Results/BO', 'Results/RF_ID', 'Results/RP_ID']\n",
    "\n",
    "def load_data_baseline(filename, budget):\n",
    "    df = pd.read_csv(filename)\n",
    "    strength = df['fc_28dGroundTruth'].values\n",
    "    if len(strength) > 4:  # if more than initial samples, drop them\n",
    "        strength = strength[4:]  # drop first 4 samples\n",
    "    if len(strength) < budget:\n",
    "        last_value = strength[-1] if len(strength) > 0 else 0\n",
    "        strength = np.pad(strength, (0, budget - len(strength)), 'constant', constant_values=last_value)\n",
    "    return strength\n",
    "\n",
    "def load_selected_data_baseline(btn):\n",
    "    directories = ['Results/BO', 'Results/RF_ID', 'Results/RP_ID']\n",
    "    data = collections.defaultdict(list)\n",
    "\n",
    "    for selected in combo_widget.value:\n",
    "        selected_model, selected_prompt, selected_temp, selected_target = selected.split(\", \")\n",
    "        selected_model = selected_model.split(\": \")[1]\n",
    "        selected_prompt = selected_prompt.split(\": \")[1]\n",
    "        selected_temp = selected_temp.split(\": \")[1]\n",
    "        selected_target = selected_target.split(\": \")[1]\n",
    "\n",
    "\n",
    "        for directory in directories:\n",
    "            for filename in os.listdir(directory):\n",
    "                info = extract_info_baseline(filename)\n",
    "                if info and info[:-1] == [selected_model, int(selected_target), float(selected_temp)]:\n",
    "                    strength = load_data_baseline(os.path.join(directory, filename), info[-1])\n",
    "                    data[info[:-1]].append(strength)\n",
    "    \n",
    "    print(\"Data Loaded Successfully!\")\n",
    "    print(data)\n",
    "    return data\n",
    "\n",
    "directories = ['Results/BO', 'Results/RF_ID', 'Results/RP_ID']\n",
    "unique_sets = []\n",
    "for directory in directories:\n",
    "    unique_sets += unique_combinations_baseline(directory)\n",
    "\n",
    "unique_list = [f\"Model: {model}, Temp: {temp}, Target: {target}, Budget: {budget}\" for model, budget, target, temp in unique_sets]\n",
    "\n",
    "combo_widget = widgets.SelectMultiple(\n",
    "    options=unique_list,\n",
    "    description='Combinations:',\n",
    "    layout=Layout(width='90%')\n",
    ")\n",
    "\n",
    "btn = widgets.Button(description=\"Load Data\")\n",
    "btn.on_click(load_selected_data_baseline)\n",
    "display(combo_widget, btn)\n"
   ]
  },
  {
   "cell_type": "code",
   "execution_count": 4,
   "id": "5606b684",
   "metadata": {},
   "outputs": [],
   "source": []
  },
  {
   "cell_type": "code",
   "execution_count": null,
   "id": "deb57d2b",
   "metadata": {},
   "outputs": [],
   "source": []
  }
 ],
 "metadata": {
  "kernelspec": {
   "display_name": "Python 3",
   "language": "python",
   "name": "python3"
  },
  "language_info": {
   "codemirror_mode": {
    "name": "ipython",
    "version": 3
   },
   "file_extension": ".py",
   "mimetype": "text/x-python",
   "name": "python",
   "nbconvert_exporter": "python",
   "pygments_lexer": "ipython3",
   "version": "3.9.12"
  }
 },
 "nbformat": 4,
 "nbformat_minor": 5
}
